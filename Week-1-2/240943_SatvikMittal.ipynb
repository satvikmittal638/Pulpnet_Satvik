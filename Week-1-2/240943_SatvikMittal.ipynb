{
 "nbformat": 4,
 "nbformat_minor": 0,
 "metadata": {
  "colab": {
   "provenance": []
  },
  "kernelspec": {
   "name": "python3",
   "display_name": "Python 3"
  },
  "language_info": {
   "name": "python"
  }
 },
 "cells": [
  {
   "cell_type": "code",
   "metadata": {
    "colab": {
     "base_uri": "https://localhost:8080/",
     "height": 365
    },
    "id": "ouQY_ZlhVCey",
    "outputId": "e27cbbe5-4919-4f46-c5b0-238785624169",
    "ExecuteTime": {
     "end_time": "2025-06-04T18:06:57.397191Z",
     "start_time": "2025-06-04T18:06:57.384708Z"
    }
   },
   "source": [
    "# import libraries\n",
    "import pandas as pd\n",
    "import numpy as np\n",
    "import seaborn as sns\n",
    "import matplotlib.pyplot as plt\n",
    "import re\n",
    "import string\n",
    "import nltk\n",
    "\n",
    "from nltk.corpus import stopwords\n",
    "from nltk.stem import PorterStemmer, WordNetLemmatizer\n",
    "from nltk.tokenize import word_tokenize\n",
    "\n",
    "from sklearn.model_selection import train_test_split\n",
    "from sklearn.feature_extraction.text import CountVectorizer, TfidfVectorizer\n",
    "from sklearn.linear_model import LogisticRegression\n",
    "from sklearn.naive_bayes import BernoulliNB\n",
    "from sklearn.svm import SVC, LinearSVC\n",
    "from sklearn.ensemble import RandomForestClassifier\n",
    "from sklearn.metrics import accuracy_score, f1_score, confusion_matrix, roc_auc_score, classification_report\n",
    "\n",
    "from tensorflow import keras\n",
    "from keras.models import Sequential\n",
    "from keras.layers import Dense\n",
    "from keras.optimizers import Adam\n",
    "\n",
    "import ssl\n",
    "try:\n",
    "    _create_unverified_https_context = ssl._create_unverified_context\n",
    "except AttributeError:\n",
    "    pass\n",
    "else:\n",
    "    ssl._create_default_https_context = _create_unverified_https_context\n",
    "\n",
    "import nltk\n",
    "nltk.download('punkt_tab')\n",
    "nltk.download('wordnet')"
   ],
   "outputs": [
    {
     "name": "stderr",
     "output_type": "stream",
     "text": [
      "[nltk_data] Downloading package punkt_tab to /Users/dmitt/nltk_data...\n",
      "[nltk_data]   Package punkt_tab is already up-to-date!\n",
      "[nltk_data] Downloading package wordnet to /Users/dmitt/nltk_data...\n",
      "[nltk_data]   Package wordnet is already up-to-date!\n"
     ]
    },
    {
     "data": {
      "text/plain": [
       "True"
      ]
     },
     "execution_count": 29,
     "metadata": {},
     "output_type": "execute_result"
    }
   ],
   "execution_count": 29
  },
  {
   "cell_type": "code",
   "source": [
    "# Load the dataset\n",
    "df = pd.read_csv('data/movie.csv')  # Adjust filename/path\n",
    "df.head()"
   ],
   "metadata": {
    "id": "wuMEvxbfVJTU",
    "ExecuteTime": {
     "end_time": "2025-06-04T18:06:58.565903Z",
     "start_time": "2025-06-04T18:06:58.244200Z"
    }
   },
   "outputs": [
    {
     "data": {
      "text/plain": [
       "                                                text  label\n",
       "0  I grew up (b. 1965) watching and loving the Th...      0\n",
       "1  When I put this movie in my DVD player, and sa...      0\n",
       "2  Why do people who do not know what a particula...      0\n",
       "3  Even though I have great interest in Biblical ...      0\n",
       "4  Im a die hard Dads Army fan and nothing will e...      1"
      ],
      "text/html": [
       "<div>\n",
       "<style scoped>\n",
       "    .dataframe tbody tr th:only-of-type {\n",
       "        vertical-align: middle;\n",
       "    }\n",
       "\n",
       "    .dataframe tbody tr th {\n",
       "        vertical-align: top;\n",
       "    }\n",
       "\n",
       "    .dataframe thead th {\n",
       "        text-align: right;\n",
       "    }\n",
       "</style>\n",
       "<table border=\"1\" class=\"dataframe\">\n",
       "  <thead>\n",
       "    <tr style=\"text-align: right;\">\n",
       "      <th></th>\n",
       "      <th>text</th>\n",
       "      <th>label</th>\n",
       "    </tr>\n",
       "  </thead>\n",
       "  <tbody>\n",
       "    <tr>\n",
       "      <th>0</th>\n",
       "      <td>I grew up (b. 1965) watching and loving the Th...</td>\n",
       "      <td>0</td>\n",
       "    </tr>\n",
       "    <tr>\n",
       "      <th>1</th>\n",
       "      <td>When I put this movie in my DVD player, and sa...</td>\n",
       "      <td>0</td>\n",
       "    </tr>\n",
       "    <tr>\n",
       "      <th>2</th>\n",
       "      <td>Why do people who do not know what a particula...</td>\n",
       "      <td>0</td>\n",
       "    </tr>\n",
       "    <tr>\n",
       "      <th>3</th>\n",
       "      <td>Even though I have great interest in Biblical ...</td>\n",
       "      <td>0</td>\n",
       "    </tr>\n",
       "    <tr>\n",
       "      <th>4</th>\n",
       "      <td>Im a die hard Dads Army fan and nothing will e...</td>\n",
       "      <td>1</td>\n",
       "    </tr>\n",
       "  </tbody>\n",
       "</table>\n",
       "</div>"
      ]
     },
     "execution_count": 30,
     "metadata": {},
     "output_type": "execute_result"
    }
   ],
   "execution_count": 30
  },
  {
   "cell_type": "code",
   "source": [
    "df.shape"
   ],
   "metadata": {
    "id": "6B__ZZ8nVXDr",
    "ExecuteTime": {
     "end_time": "2025-06-04T18:06:59.056699Z",
     "start_time": "2025-06-04T18:06:59.053972Z"
    }
   },
   "outputs": [
    {
     "data": {
      "text/plain": [
       "(40000, 2)"
      ]
     },
     "execution_count": 31,
     "metadata": {},
     "output_type": "execute_result"
    }
   ],
   "execution_count": 31
  },
  {
   "cell_type": "code",
   "source": [
    "df[df.duplicated()]"
   ],
   "metadata": {
    "id": "wHvg8ozrVmr5",
    "ExecuteTime": {
     "end_time": "2025-06-04T18:06:59.712120Z",
     "start_time": "2025-06-04T18:06:59.587123Z"
    }
   },
   "outputs": [
    {
     "data": {
      "text/plain": [
       "                                                    text  label\n",
       "2164   I find it rather useless to comment on this \"m...      0\n",
       "3236   An absolutely atrocious adaptation of the wond...      0\n",
       "3428   When I first saw this film it was not an impre...      0\n",
       "3652   Before I watched this tv movie I did not know ...      1\n",
       "3787   What a clunker!<br /><br />It MUST have been m...      0\n",
       "...                                                  ...    ...\n",
       "39229  I Enjoyed Watching This Well Acted Movie Very ...      1\n",
       "39246  You do realize that you've been watching the E...      0\n",
       "39508  (Spoilers)<br /><br />Oh sure it's based on Mo...      0\n",
       "39681  It's been a long time since I last saw a movie...      0\n",
       "39746  Goodnight, Mister Tom begins in an impossibly ...      0\n",
       "\n",
       "[277 rows x 2 columns]"
      ],
      "text/html": [
       "<div>\n",
       "<style scoped>\n",
       "    .dataframe tbody tr th:only-of-type {\n",
       "        vertical-align: middle;\n",
       "    }\n",
       "\n",
       "    .dataframe tbody tr th {\n",
       "        vertical-align: top;\n",
       "    }\n",
       "\n",
       "    .dataframe thead th {\n",
       "        text-align: right;\n",
       "    }\n",
       "</style>\n",
       "<table border=\"1\" class=\"dataframe\">\n",
       "  <thead>\n",
       "    <tr style=\"text-align: right;\">\n",
       "      <th></th>\n",
       "      <th>text</th>\n",
       "      <th>label</th>\n",
       "    </tr>\n",
       "  </thead>\n",
       "  <tbody>\n",
       "    <tr>\n",
       "      <th>2164</th>\n",
       "      <td>I find it rather useless to comment on this \"m...</td>\n",
       "      <td>0</td>\n",
       "    </tr>\n",
       "    <tr>\n",
       "      <th>3236</th>\n",
       "      <td>An absolutely atrocious adaptation of the wond...</td>\n",
       "      <td>0</td>\n",
       "    </tr>\n",
       "    <tr>\n",
       "      <th>3428</th>\n",
       "      <td>When I first saw this film it was not an impre...</td>\n",
       "      <td>0</td>\n",
       "    </tr>\n",
       "    <tr>\n",
       "      <th>3652</th>\n",
       "      <td>Before I watched this tv movie I did not know ...</td>\n",
       "      <td>1</td>\n",
       "    </tr>\n",
       "    <tr>\n",
       "      <th>3787</th>\n",
       "      <td>What a clunker!&lt;br /&gt;&lt;br /&gt;It MUST have been m...</td>\n",
       "      <td>0</td>\n",
       "    </tr>\n",
       "    <tr>\n",
       "      <th>...</th>\n",
       "      <td>...</td>\n",
       "      <td>...</td>\n",
       "    </tr>\n",
       "    <tr>\n",
       "      <th>39229</th>\n",
       "      <td>I Enjoyed Watching This Well Acted Movie Very ...</td>\n",
       "      <td>1</td>\n",
       "    </tr>\n",
       "    <tr>\n",
       "      <th>39246</th>\n",
       "      <td>You do realize that you've been watching the E...</td>\n",
       "      <td>0</td>\n",
       "    </tr>\n",
       "    <tr>\n",
       "      <th>39508</th>\n",
       "      <td>(Spoilers)&lt;br /&gt;&lt;br /&gt;Oh sure it's based on Mo...</td>\n",
       "      <td>0</td>\n",
       "    </tr>\n",
       "    <tr>\n",
       "      <th>39681</th>\n",
       "      <td>It's been a long time since I last saw a movie...</td>\n",
       "      <td>0</td>\n",
       "    </tr>\n",
       "    <tr>\n",
       "      <th>39746</th>\n",
       "      <td>Goodnight, Mister Tom begins in an impossibly ...</td>\n",
       "      <td>0</td>\n",
       "    </tr>\n",
       "  </tbody>\n",
       "</table>\n",
       "<p>277 rows × 2 columns</p>\n",
       "</div>"
      ]
     },
     "execution_count": 32,
     "metadata": {},
     "output_type": "execute_result"
    }
   ],
   "execution_count": 32
  },
  {
   "cell_type": "code",
   "source": [
    "df['text'].value_counts()"
   ],
   "metadata": {
    "id": "o1d1pgdGVm-b",
    "ExecuteTime": {
     "end_time": "2025-06-04T18:07:00.205481Z",
     "start_time": "2025-06-04T18:07:00.169923Z"
    }
   },
   "outputs": [
    {
     "data": {
      "text/plain": [
       "text\n",
       "Hilarious, clean, light-hearted, and quote-worthy. What else can you ask for in a film? This is my all-time, number one favorite movie. Ever since I was a little girl, I've dreamed of owning a blue van with flames and an observation bubble.<br /><br />The cliché characters in ridiculous situations are what make this film such great fun. The wonderful comedic chemistry between Stephen Furst (Harold) and Andy Tennant (Melio) make up most of my favorite parts of the movie. And who didn't love the hopeless awkwardness of Flynch? Don't forget the airport antics of Leon's cronies, dressed up as Hari Krishnas: dancing, chanting and playing the tambourine--unbeatable! The clues are genius, the locations are classic, and the plot is timeless.<br /><br />A word to the wise, if you didn't watch this film when you were little, it probably won't win a place in your heart today. But nevertheless give it a chance, you may find that \"It doesn't matter what you say, it doesn't matter what you do, you've gotta play.\"                                                                                                                                                                                                                                                                                                                                                                                                                                                                                                                                                                                                                                                                                                                                                                                                                                                                                                                                                                                                                                                                                                                                                                                                                                                                                                                                                                                                                                                                                                                                                                                                                                                                                                                                                                                                                                                                                                                                                                                                                                                                                                                                                                                                                                                                                                                                                                                                4\n",
       "Loved today's show!!! It was a variety and not solely cooking (which would have been great too). Very stimulating and captivating, always keeping the viewer peeking around the corner to see what was coming up next. She is as down to earth and as personable as you get, like one of us which made the show all the more enjoyable. Special guests, who are friends as well made for a nice surprise too. Loved the 'first' theme and that the audience was invited to play along too. I must admit I was shocked to see her come in under her time limits on a few things, but she did it and by golly I'll be writing those recipes down. Saving time in the kitchen means more time with family. Those who haven't tuned in yet, find out what channel and the time, I assure you that you won't be disappointed.                                                                                                                                                                                                                                                                                                                                                                                                                                                                                                                                                                                                                                                                                                                                                                                                                                                                                                                                                                                                                                                                                                                                                                                                                                                                                                                                                                                                                                                                                                                                                                                                                                                                                                                                                                                                                                                                                                                                                                                                                                                                                                                                                                                                                                                                                                                                                                                                                                                                                                                                                                                                                              4\n",
       "This show comes up with interesting locations as fast as the travel channel. It is billed as reality but in actuality it is pure prime time soap opera. It's tries to use exotic locales as a facade to bring people into a phony contest & then proceeds to hook viewers on the contestants soap opera style.<br /><br />It also borrows from an early CBS game show pioneer- Beat The Clock- by inventing situations for its contestants to try & overcome. Then it rewards the winner money. If they can spice it up with a little interaction between the characters, even better. While the game format is in slow motion versus Beat The Clock- the real accomplishment of this series is to escape reality. <br /><br />This show has elements of several types of successful past programs. Reality television, hardly, but if your hooked on the contestants, locale or contest, this is your cup of tea. If your not, this entire series is as I say, drivel dripping with gravy. It is another show hiding behind the reality label which is the trend it started in 2000.<br /><br />It is slick & well produced, so it might last a while yet. After all, so do re-runs of Gilligan's Island, Green Acres, The Beverly Hillbillies & The Brady Bunch. This just doesn't employ professional actors. The intelligence level is about the same.                                                                                                                                                                                                                                                                                                                                                                                                                                                                                                                                                                                                                                                                                                                                                                                                                                                                                                                                                                                                                                                                                                                                                                                                                                                                                                                                                                                                                                                                                                                                                                                                                                                                                                                                                                                                                                                                                                                                                                                                                                                                                            3\n",
       "When i got this movie free from my job, along with three other similar movies.. I watched then with very low expectations. Now this movie isn't bad per se. You get what you pay for. It is a tale of love, betrayal, lies, sex, scandal, everything you want in a movie. Definitely not a Hollywood blockbuster, but for cheap thrills it is not that bad. I would probably never watch this movie again. In a nutshell this is the kind of movie that you would see either very late at night on a local television station that is just wanting to take up some time, or you would see it on a Sunday afternoon on a local television station that is trying to take up some time. Despite the bad acting, cliché lines, and sub par camera work. I didn't have the desire to turn off the movie and pretend like it never popped into my DVD player. The story has been done many times in many movies. This one is no different, no better, no worse. <br /><br />Just your average movie.                                                                                                                                                                                                                                                                                                                                                                                                                                                                                                                                                                                                                                                                                                                                                                                                                                                                                                                                                                                                                                                                                                                                                                                                                                                                                                                                                                                                                                                                                                                                                                                                                                                                                                                                                                                                                                                                                                                                                                                                                                                                                                                                                                                                                                                                                                                                                                                                                                                       3\n",
       "Robert Jordan is a television star. Robert Jordan likes things orderly, on time and properly executed. In his world children are to be seen, not heard. So why would Mr. Jordan want to become the master of a rambunctious band of Boy Scouts? Ratings. His staff figures that if learns how to interact with the youth, they will be more inclined to watch his show. Of course watching Jordan cope comprises most of the fun.<br /><br />Like Mr. Belvedere and Mr. Belvedere Goes to College this one is sure to please.<br /><br />ANYONE INTERESTED IN OBTAINING A COPY OF THIS FILM PLEASE WRITE TO ME AT: IAMASEAL2@YAHOO.COM                                                                                                                                                                                                                                                                                                                                                                                                                                                                                                                                                                                                                                                                                                                                                                                                                                                                                                                                                                                                                                                                                                                                                                                                                                                                                                                                                                                                                                                                                                                                                                                                                                                                                                                                                                                                                                                                                                                                                                                                                                                                                                                                                                                                                                                                                                                                                                                                                                                                                                                                                                                                                                                                                                                                                                                                                3\n",
       "                                                                                                                                                                                                                                                                                                                                                                                                                                                                                                                                                                                                                                                                                                                                                                                                                                                                                                                                                                                                                                                                                                                                                                                                                                                                                                                                                                                                                                                                                                                                                                                                                                                                                                                                                                                                                                                                                                                                                                                                                                                                                                                                                                                                                                                                                                                                                                                                                                                                                                                                                                                                                                                                                                                                                                                                                                                                                                                                                                                                                                                                                                                                                                                                                                                                                                                                                                                                                                                     ..\n",
       "Rea, Sutherland, DeMunn, and von Sydow (in a small role) are all brilliant in their performances. Sutherland is particularly adept at this sort of role, where he must portray a character whose morality is, at first, uncertain to the audience. As is so often the case with Sutherland's characters, we must ask \"is he a villian [in this case, a minor one], or a hero?\"<br /><br />This is a disturbing story, intelligently told, about the incompetence and fearful bureaucracy in the old Soviet Union that impeded the efforts of extremely competent people. As Sutherland's character wryly notes, \"The measure of a bureaucracy is its ability not to make special exceptions\". The \"committee meeting\" (between Rea and Sutherland's characters) after perestroika is enforced, with its revelations, has enormous emotional impact. You can feel the suffering of the dedicated people who labored in that system.<br /><br />The handful of dramatic scenes portraying victims' family members adds emotional resonance to the impact of the story. This is seldom a feature of a film with this sickening subject matter, but effectively reminds us that the victims had lives, and were loved.<br /><br />This is a sad, but very important film, which deserved its showcase on Canada's History Television.                                                                                                                                                                                                                                                                                                                                                                                                                                                                                                                                                                                                                                                                                                                                                                                                                                                                                                                                                                                                                                                                                                                                                                                                                                                                                                                                                                                                                                                                                                                                                                                                                                                                                                                                                                                                                                                                                                                                                                                                                                                                                                                     1\n",
       "Call me old fashioned, but I like movies with plots. I thought \"stoner comedy\" was just a way to more specifically describe a comedy in which lots of weed is smoked and the people watching it are more apt to enjoy it high. \"Grandma's Boy,\" however, has decided this is a full-blown niche and that stoners represent a piece of the comedy pie that need to be reached. Apparently, Allen Covert (star and producer) and the Happy Madison gang were right, but that doesn't make \"Grandma's Boy\" any less boring and unfunny. They might be completely stoned -- but the characters are mostly half-baked.<br /><br />Alex (Covert, a longtime supporting player for Adam Sandler, first-time star) is a mid-30s professional video game tester whose roommate has gotten them evicted. He could look for a new apartment, but then we don't have a movie. After trying a couple friends, he ends up living with good ole Grandma Lilly (Doris Roberts of \"Everybody Loves Raymond\"). She wakes him up a 6 am and has him do chores and soon he's falling asleep on the job and so the new video game sequel might not get done on deadline.<br /><br />Like most people, Alex deals with his frustration and eradicates boredom by either playing video games or getting high or both. His friends/co-workers all do the same thing. Most of them are virgins that live at home in addition to loving video games. They're all awkward and all with the exception of Nick Swardson and Joel Moore (only at times) their characters aren't funny. Funny if you're blazed ... sure, i suppose, but I can't say from experience.<br /><br />Maybe all we loser guys like is getting high, playing video games and awkwardly ogling women with specific attention on their breasts, but even so, it shouldn't be the driving force of an entire film. Neither should old women getting high on accident (saw that one coming) or being the but of gross-out sex jokes -- but that's what happens when a film isn't about anything. No conflict occurs until the last 20 minutes outside of the slight problems of being out of pot, Alex trying to get the hot girl (Linda Cardellini) to like him and the guys scrambling to finish their levels for the video game deadline.<br /><br />Characters can be the saving grace for these meandering stoner flicks, but aside from a lovable Doris Roberts, the aforementioned Swardson as the virgin friend who lives with his parents and calls them his roommates and Joel Moore's skill at making robot noises, there's little character ingenuity. Covert is a run-of-the-mill main character with no comedic dimensions, his dealer friend Dante is an inept actor and waste of screen time and Jonah Hill and Kevin Nealon are written so far into the periphery it doesn't matter.<br /><br />If you like movies about nothing and watching them in a state of mind and body that enhance that nothingness, \"Grandma's Boy\" will likely be just what you're looking for. Those who need a little more talent and wit to get on board with a comedy will be left unaffected. The most I can say for \"Grandma's Boy\" is that it's watchable despite its pointlessness. It won't feel like a total waste of time but you'll wish you did do drugs so you could at least have made the most of the hour and a half.<br /><br />~Steven C<br /><br />Visit my site at www.moviemusereviews.com    1\n",
       "Directed by E. Elias Merhige \"Begotten\" is an experiment with a few interesting ideas that don't quite succeed in what they were trying to do. The film is a 76 minute ultra slow, questionably effective, irritating experience that tries to present an intriguing philosophy about the creation of the Earth and human nature.<br /><br />It opens with god presented as a chair-bound psychopathic man who tears open his stomach using a knife. From the guts, blood and human waste Mother Nature emerges. She proceeds to impregnate herself with the dead god's semen. Later she gives birth to the Son of the Earth. A retard who is constantly abused a group of cannibalistic people whom I believe to be the representation of mankind.<br /><br />\"Begotten\" takes a twisted and disturbing look on the origin of life. Demonstrating the self-destructive nature, violence, lust and greed that have become a trademark for mankind. The problem in the movie come from two points. One is that the film is just too slow in it's exhibition. What we get is a good thirty minutes spent on showing how the Son of the Earth is constantly shaking naked on the ground while at the same time being molested and tortured by mankind. Such tasteless prolonging gets boring pretty fast and lacks the punch in delivering a blow to the viewer's senses.<br /><br />Another point is \"Beggoten's\" visual appearance and sound. The grainy, inverted, black and white low frame cinematography enchants the disturbing factor of the plot, but such novelties often work in only short periods of time. Then gradually begin to lose their effect as the audience becomes accustomed to the look. The audio suffers from the same problems. It's constant repetitive and similar sounds become annoying so fast I had an urge to turn off the volume. \"Begotten\" loses it's charm shortly after it begins. It tries to be original and creative but it fails to expand on the ideas hinted by the vague plot instead it repeats the same scene again and again.<br /><br />The conclusion is that \"Begotten\" is stuck in one moment. Even though plot-wise it tries to move forward, the visuals and audio remain the same throughout. Showing the same action in a slightly different way with just slightly a different sound. A gimmick cannot alone make a movie. It also needs pace and variety, something Merhige seems to have forgotten.                                                                                                                                                                                                                                                                                                                                                                                                                                                                                                                                                                                                                                                                                                                                                                                                                                                                                                                                                                                         1\n",
       "Entertainment Tonight has been going down hill for the last few years, but as of last night (Aug 17th 2006) they reached a new low.<br /><br />In an effort to try to hype up their broadcast, they decided to post actual photos of JonBenet Ramsey's body in their teasers last night ...saying \"Pictures from the case you have never seen before\". The two photos were graphic and very disturbing. One was of the side of her face and head/neck and you could clearly see the cord that was used to strangle her around her neck, and bruising on her face. This was so hideously awful, I could not believe it. How has this got to do with ANYTHING remotely related to Hollywood Entertainment?? Nothing!! They have dropped their level of dignity and values to a new low....and it shows. This used to be THE premiere show to watch...and it's just garbage now.<br /><br />I will watch Access Hollywood from now on.                                                                                                                                                                                                                                                                                                                                                                                                                                                                                                                                                                                                                                                                                                                                                                                                                                                                                                                                                                                                                                                                                                                                                                                                                                                                                                                                                                                                                                                                                                                                                                                                                                                                                                                                                                                                                                                                                                                                                                                                                                                                                                                                                                                                                                                                                                                                                                                                                                                                                                                   1\n",
       "Why would this film be so good, but only gross an estimated $95,000,000 and have NO award nominations? John Travolta knows what he's doing. He knows he's Michael, a cigar smoking, womanizing, magical arch angel that came down to live with a dying lady and is now in a car with the staff of \"The National Mirror\" and their dog, Sparky, on the way to Chicago. It then turns into a road trip that's both horrible AND great. I don't even think the death scenes (3 to be exact) make this a tearjerker. The soundtrack is the best with \"Heaven Is My Home\", \"Up Around The Bend\", and \"Chains Of Fools\". I have very great expectations about this and I say that it should have had a little more respect in the 90's. Read my comment. Bye!                                                                                                                                                                                                                                                                                                                                                                                                                                                                                                                                                                                                                                                                                                                                                                                                                                                                                                                                                                                                                                                                                                                                                                                                                                                                                                                                                                                                                                                                                                                                                                                                                                                                                                                                                                                                                                                                                                                                                                                                                                                                                                                                                                                                                                                                                                                                                                                                                                                                                                                                                                                                                                                                                               1\n",
       "Name: count, Length: 39723, dtype: int64"
      ]
     },
     "execution_count": 33,
     "metadata": {},
     "output_type": "execute_result"
    }
   ],
   "execution_count": 33
  },
  {
   "cell_type": "code",
   "source": [
    "df.drop_duplicates(inplace=True)"
   ],
   "metadata": {
    "id": "4ciKpKDEVo1S",
    "ExecuteTime": {
     "end_time": "2025-06-04T18:07:00.823562Z",
     "start_time": "2025-06-04T18:07:00.690955Z"
    }
   },
   "outputs": [],
   "execution_count": 34
  },
  {
   "cell_type": "code",
   "source": [
    "df[df.duplicated()]\n"
   ],
   "metadata": {
    "id": "g4NfNfyoVqQb",
    "ExecuteTime": {
     "end_time": "2025-06-04T18:07:01.284401Z",
     "start_time": "2025-06-04T18:07:01.155956Z"
    }
   },
   "outputs": [
    {
     "data": {
      "text/plain": [
       "Empty DataFrame\n",
       "Columns: [text, label]\n",
       "Index: []"
      ],
      "text/html": [
       "<div>\n",
       "<style scoped>\n",
       "    .dataframe tbody tr th:only-of-type {\n",
       "        vertical-align: middle;\n",
       "    }\n",
       "\n",
       "    .dataframe tbody tr th {\n",
       "        vertical-align: top;\n",
       "    }\n",
       "\n",
       "    .dataframe thead th {\n",
       "        text-align: right;\n",
       "    }\n",
       "</style>\n",
       "<table border=\"1\" class=\"dataframe\">\n",
       "  <thead>\n",
       "    <tr style=\"text-align: right;\">\n",
       "      <th></th>\n",
       "      <th>text</th>\n",
       "      <th>label</th>\n",
       "    </tr>\n",
       "  </thead>\n",
       "  <tbody>\n",
       "  </tbody>\n",
       "</table>\n",
       "</div>"
      ]
     },
     "execution_count": 35,
     "metadata": {},
     "output_type": "execute_result"
    }
   ],
   "execution_count": 35
  },
  {
   "cell_type": "code",
   "source": [
    "df[df.isnull().any(axis=1)]\n"
   ],
   "metadata": {
    "id": "q6pWQgMbVsj-",
    "ExecuteTime": {
     "end_time": "2025-06-04T18:07:01.689654Z",
     "start_time": "2025-06-04T18:07:01.679784Z"
    }
   },
   "outputs": [
    {
     "data": {
      "text/plain": [
       "Empty DataFrame\n",
       "Columns: [text, label]\n",
       "Index: []"
      ],
      "text/html": [
       "<div>\n",
       "<style scoped>\n",
       "    .dataframe tbody tr th:only-of-type {\n",
       "        vertical-align: middle;\n",
       "    }\n",
       "\n",
       "    .dataframe tbody tr th {\n",
       "        vertical-align: top;\n",
       "    }\n",
       "\n",
       "    .dataframe thead th {\n",
       "        text-align: right;\n",
       "    }\n",
       "</style>\n",
       "<table border=\"1\" class=\"dataframe\">\n",
       "  <thead>\n",
       "    <tr style=\"text-align: right;\">\n",
       "      <th></th>\n",
       "      <th>text</th>\n",
       "      <th>label</th>\n",
       "    </tr>\n",
       "  </thead>\n",
       "  <tbody>\n",
       "  </tbody>\n",
       "</table>\n",
       "</div>"
      ]
     },
     "execution_count": 36,
     "metadata": {},
     "output_type": "execute_result"
    }
   ],
   "execution_count": 36
  },
  {
   "cell_type": "code",
   "source": [
    "df['label'].value_counts()\n"
   ],
   "metadata": {
    "id": "AI3u2pTdVtzX",
    "ExecuteTime": {
     "end_time": "2025-06-04T18:07:02.199732Z",
     "start_time": "2025-06-04T18:07:02.194487Z"
    }
   },
   "outputs": [
    {
     "data": {
      "text/plain": [
       "label\n",
       "1    19908\n",
       "0    19815\n",
       "Name: count, dtype: int64"
      ]
     },
     "execution_count": 37,
     "metadata": {},
     "output_type": "execute_result"
    }
   ],
   "execution_count": 37
  },
  {
   "cell_type": "code",
   "source": [
    "sns.countplot(x='label',data=df)\n",
    "plt.title(\"Sentiment Class Distribution\")\n",
    "plt.show()"
   ],
   "metadata": {
    "id": "y2iv3V8VVuvh",
    "ExecuteTime": {
     "end_time": "2025-06-04T18:07:02.738966Z",
     "start_time": "2025-06-04T18:07:02.645915Z"
    }
   },
   "outputs": [
    {
     "data": {
      "text/plain": [
       "<Figure size 640x480 with 1 Axes>"
      ],
      "image/png": "[encoded data removed]"
     },
     "metadata": {},
     "output_type": "display_data"
    }
   ],
   "execution_count": 38
  },
  {
   "cell_type": "code",
   "source": [
    "df['len'] = df['text'].apply(lambda x: len(x.split()))\n",
    "sns.boxplot(x='label', y='len', data=df)\n",
    "plt.title(\"Review Length vs Sentiment\")\n",
    "plt.show()"
   ],
   "metadata": {
    "id": "ItXLDgI5Vv3x",
    "ExecuteTime": {
     "end_time": "2025-06-04T18:07:03.461212Z",
     "start_time": "2025-06-04T18:07:03.151434Z"
    }
   },
   "outputs": [
    {
     "data": {
      "text/plain": [
       "<Figure size 640x480 with 1 Axes>"
      ],
      "image/png": "[encoded data removed]"
     },
     "metadata": {},
     "output_type": "display_data"
    }
   ],
   "execution_count": 39
  },
  {
   "cell_type": "code",
   "source": [
    "plt.figure(figsize=(8,6))\n",
    "sns.violinplot(x='label', y='len', data=df, inner='quartile')\n",
    "plt.title('Violin Plot: Review Length vs Sentiment')\n",
    "plt.xlabel('Sentiment (0 = Negative, 1 = Positive)')\n",
    "plt.ylabel('Number of Words in Review')\n",
    "plt.show()"
   ],
   "metadata": {
    "id": "w1iXvmTkVyYQ",
    "ExecuteTime": {
     "end_time": "2025-06-04T18:07:03.736982Z",
     "start_time": "2025-06-04T18:07:03.623589Z"
    }
   },
   "outputs": [
    {
     "data": {
      "text/plain": [
       "<Figure size 800x600 with 1 Axes>"
      ],
      "image/png": "[encoded data removed]"
     },
     "metadata": {},
     "output_type": "display_data"
    }
   ],
   "execution_count": 40
  },
  {
   "cell_type": "code",
   "source": [
    "plt.figure(figsize=(10,6))\n",
    "sns.histplot(data=df, x='len', hue='label', bins=50, kde=True, stat='density', common_norm=False)\n",
    "plt.title('Distribution of Review Length by Sentiment')\n",
    "plt.xlabel('Review Length (in words)')\n",
    "plt.ylabel('Density')\n",
    "plt.show()"
   ],
   "metadata": {
    "id": "XRfEmGQ3Vz7N",
    "ExecuteTime": {
     "end_time": "2025-06-04T18:07:04.873916Z",
     "start_time": "2025-06-04T18:07:04.648112Z"
    }
   },
   "outputs": [
    {
     "data": {
      "text/plain": [
       "<Figure size 1000x600 with 1 Axes>"
      ],
      "image/png": "[encoded data removed]"
     },
     "metadata": {},
     "output_type": "display_data"
    }
   ],
   "execution_count": 41
  },
  {
   "cell_type": "code",
   "source": [
    "# 1. Lowercase the text\n",
    "df['text'] = df['text'].str.lower()\n",
    "\n",
    "# 2. Remove HTML tags\n",
    "df['text'] = df['text'].apply(lambda x: re.sub(r'<.*?>', '', x))\n",
    "\n",
    "# 3. Remove special characters, digits, punctuation, emojis\n",
    "df['text'] = df['text'].apply(lambda x: re.sub(r'[^a-z\\s]', '', x))\n",
    "\n",
    "# 4. Remove extra spaces\n",
    "df['text'] = df['text'].apply(lambda x: re.sub(r'\\s+', ' ', x).strip())"
   ],
   "metadata": {
    "id": "tO9ZrLnWV09D",
    "ExecuteTime": {
     "end_time": "2025-06-04T18:07:07.003015Z",
     "start_time": "2025-06-04T18:07:05.431839Z"
    }
   },
   "outputs": [],
   "execution_count": 42
  },
  {
   "cell_type": "code",
   "source": [
    "df.head()"
   ],
   "metadata": {
    "id": "NjBrim2sV2kZ",
    "ExecuteTime": {
     "end_time": "2025-06-04T18:07:07.664356Z",
     "start_time": "2025-06-04T18:07:07.660611Z"
    }
   },
   "outputs": [
    {
     "data": {
      "text/plain": [
       "                                                text  label  len\n",
       "0  i grew up b watching and loving the thunderbir...      0  151\n",
       "1  when i put this movie in my dvd player and sat...      0  326\n",
       "2  why do people who do not know what a particula...      0  184\n",
       "3  even though i have great interest in biblical ...      0   69\n",
       "4  im a die hard dads army fan and nothing will e...      1  178"
      ],
      "text/html": [
       "<div>\n",
       "<style scoped>\n",
       "    .dataframe tbody tr th:only-of-type {\n",
       "        vertical-align: middle;\n",
       "    }\n",
       "\n",
       "    .dataframe tbody tr th {\n",
       "        vertical-align: top;\n",
       "    }\n",
       "\n",
       "    .dataframe thead th {\n",
       "        text-align: right;\n",
       "    }\n",
       "</style>\n",
       "<table border=\"1\" class=\"dataframe\">\n",
       "  <thead>\n",
       "    <tr style=\"text-align: right;\">\n",
       "      <th></th>\n",
       "      <th>text</th>\n",
       "      <th>label</th>\n",
       "      <th>len</th>\n",
       "    </tr>\n",
       "  </thead>\n",
       "  <tbody>\n",
       "    <tr>\n",
       "      <th>0</th>\n",
       "      <td>i grew up b watching and loving the thunderbir...</td>\n",
       "      <td>0</td>\n",
       "      <td>151</td>\n",
       "    </tr>\n",
       "    <tr>\n",
       "      <th>1</th>\n",
       "      <td>when i put this movie in my dvd player and sat...</td>\n",
       "      <td>0</td>\n",
       "      <td>326</td>\n",
       "    </tr>\n",
       "    <tr>\n",
       "      <th>2</th>\n",
       "      <td>why do people who do not know what a particula...</td>\n",
       "      <td>0</td>\n",
       "      <td>184</td>\n",
       "    </tr>\n",
       "    <tr>\n",
       "      <th>3</th>\n",
       "      <td>even though i have great interest in biblical ...</td>\n",
       "      <td>0</td>\n",
       "      <td>69</td>\n",
       "    </tr>\n",
       "    <tr>\n",
       "      <th>4</th>\n",
       "      <td>im a die hard dads army fan and nothing will e...</td>\n",
       "      <td>1</td>\n",
       "      <td>178</td>\n",
       "    </tr>\n",
       "  </tbody>\n",
       "</table>\n",
       "</div>"
      ]
     },
     "execution_count": 43,
     "metadata": {},
     "output_type": "execute_result"
    }
   ],
   "execution_count": 43
  },
  {
   "cell_type": "code",
   "source": "df['tokenized']=df['text'].apply(word_tokenize)",
   "metadata": {
    "id": "1yqf4ctIV3vL",
    "ExecuteTime": {
     "end_time": "2025-06-04T18:07:20.654652Z",
     "start_time": "2025-06-04T18:07:08.255281Z"
    }
   },
   "outputs": [],
   "execution_count": 44
  },
  {
   "cell_type": "code",
   "source": [
    "df.head()"
   ],
   "metadata": {
    "id": "5OhyRPJiV44-",
    "ExecuteTime": {
     "end_time": "2025-06-04T18:03:21.580722Z",
     "start_time": "2025-06-04T18:03:21.576259Z"
    }
   },
   "outputs": [
    {
     "data": {
      "text/plain": [
       "                                                text  label  len  \\\n",
       "0  i grew up b watching and loving the thunderbir...      0  151   \n",
       "1  when i put this movie in my dvd player and sat...      0  326   \n",
       "2  why do people who do not know what a particula...      0  184   \n",
       "3  even though i have great interest in biblical ...      0   69   \n",
       "4  im a die hard dads army fan and nothing will e...      1  178   \n",
       "\n",
       "                                           tokenized  \n",
       "0  [i, grew, up, b, watching, and, loving, the, t...  \n",
       "1  [when, i, put, this, movie, in, my, dvd, playe...  \n",
       "2  [why, do, people, who, do, not, know, what, a,...  \n",
       "3  [even, though, i, have, great, interest, in, b...  \n",
       "4  [im, a, die, hard, dads, army, fan, and, nothi...  "
      ],
      "text/html": [
       "<div>\n",
       "<style scoped>\n",
       "    .dataframe tbody tr th:only-of-type {\n",
       "        vertical-align: middle;\n",
       "    }\n",
       "\n",
       "    .dataframe tbody tr th {\n",
       "        vertical-align: top;\n",
       "    }\n",
       "\n",
       "    .dataframe thead th {\n",
       "        text-align: right;\n",
       "    }\n",
       "</style>\n",
       "<table border=\"1\" class=\"dataframe\">\n",
       "  <thead>\n",
       "    <tr style=\"text-align: right;\">\n",
       "      <th></th>\n",
       "      <th>text</th>\n",
       "      <th>label</th>\n",
       "      <th>len</th>\n",
       "      <th>tokenized</th>\n",
       "    </tr>\n",
       "  </thead>\n",
       "  <tbody>\n",
       "    <tr>\n",
       "      <th>0</th>\n",
       "      <td>i grew up b watching and loving the thunderbir...</td>\n",
       "      <td>0</td>\n",
       "      <td>151</td>\n",
       "      <td>[i, grew, up, b, watching, and, loving, the, t...</td>\n",
       "    </tr>\n",
       "    <tr>\n",
       "      <th>1</th>\n",
       "      <td>when i put this movie in my dvd player and sat...</td>\n",
       "      <td>0</td>\n",
       "      <td>326</td>\n",
       "      <td>[when, i, put, this, movie, in, my, dvd, playe...</td>\n",
       "    </tr>\n",
       "    <tr>\n",
       "      <th>2</th>\n",
       "      <td>why do people who do not know what a particula...</td>\n",
       "      <td>0</td>\n",
       "      <td>184</td>\n",
       "      <td>[why, do, people, who, do, not, know, what, a,...</td>\n",
       "    </tr>\n",
       "    <tr>\n",
       "      <th>3</th>\n",
       "      <td>even though i have great interest in biblical ...</td>\n",
       "      <td>0</td>\n",
       "      <td>69</td>\n",
       "      <td>[even, though, i, have, great, interest, in, b...</td>\n",
       "    </tr>\n",
       "    <tr>\n",
       "      <th>4</th>\n",
       "      <td>im a die hard dads army fan and nothing will e...</td>\n",
       "      <td>1</td>\n",
       "      <td>178</td>\n",
       "      <td>[im, a, die, hard, dads, army, fan, and, nothi...</td>\n",
       "    </tr>\n",
       "  </tbody>\n",
       "</table>\n",
       "</div>"
      ]
     },
     "execution_count": 18,
     "metadata": {},
     "output_type": "execute_result"
    }
   ],
   "execution_count": 18
  },
  {
   "cell_type": "code",
   "source": [
    "stemmer = PorterStemmer()\n",
    "df['stemmed'] = df['tokenized'].apply(lambda tokens: [stemmer.stem(token) for token in tokens])"
   ],
   "metadata": {
    "id": "TvJKK616V6aH",
    "ExecuteTime": {
     "end_time": "2025-06-04T18:08:42.086318Z",
     "start_time": "2025-06-04T18:07:57.289428Z"
    }
   },
   "outputs": [],
   "execution_count": 49
  },
  {
   "cell_type": "code",
   "source": [
    "df.head()\n"
   ],
   "metadata": {
    "id": "kCs3VPBZV7ga",
    "ExecuteTime": {
     "end_time": "2025-06-04T18:07:34.925243Z",
     "start_time": "2025-06-04T18:07:34.906571Z"
    }
   },
   "outputs": [
    {
     "data": {
      "text/plain": [
       "                                                text  label  len  \\\n",
       "0  i grew up b watching and loving the thunderbir...      0  151   \n",
       "1  when i put this movie in my dvd player and sat...      0  326   \n",
       "2  why do people who do not know what a particula...      0  184   \n",
       "3  even though i have great interest in biblical ...      0   69   \n",
       "4  im a die hard dads army fan and nothing will e...      1  178   \n",
       "\n",
       "                                           tokenized  \n",
       "0  [i, grew, up, b, watching, and, loving, the, t...  \n",
       "1  [when, i, put, this, movie, in, my, dvd, playe...  \n",
       "2  [why, do, people, who, do, not, know, what, a,...  \n",
       "3  [even, though, i, have, great, interest, in, b...  \n",
       "4  [im, a, die, hard, dads, army, fan, and, nothi...  "
      ],
      "text/html": [
       "<div>\n",
       "<style scoped>\n",
       "    .dataframe tbody tr th:only-of-type {\n",
       "        vertical-align: middle;\n",
       "    }\n",
       "\n",
       "    .dataframe tbody tr th {\n",
       "        vertical-align: top;\n",
       "    }\n",
       "\n",
       "    .dataframe thead th {\n",
       "        text-align: right;\n",
       "    }\n",
       "</style>\n",
       "<table border=\"1\" class=\"dataframe\">\n",
       "  <thead>\n",
       "    <tr style=\"text-align: right;\">\n",
       "      <th></th>\n",
       "      <th>text</th>\n",
       "      <th>label</th>\n",
       "      <th>len</th>\n",
       "      <th>tokenized</th>\n",
       "    </tr>\n",
       "  </thead>\n",
       "  <tbody>\n",
       "    <tr>\n",
       "      <th>0</th>\n",
       "      <td>i grew up b watching and loving the thunderbir...</td>\n",
       "      <td>0</td>\n",
       "      <td>151</td>\n",
       "      <td>[i, grew, up, b, watching, and, loving, the, t...</td>\n",
       "    </tr>\n",
       "    <tr>\n",
       "      <th>1</th>\n",
       "      <td>when i put this movie in my dvd player and sat...</td>\n",
       "      <td>0</td>\n",
       "      <td>326</td>\n",
       "      <td>[when, i, put, this, movie, in, my, dvd, playe...</td>\n",
       "    </tr>\n",
       "    <tr>\n",
       "      <th>2</th>\n",
       "      <td>why do people who do not know what a particula...</td>\n",
       "      <td>0</td>\n",
       "      <td>184</td>\n",
       "      <td>[why, do, people, who, do, not, know, what, a,...</td>\n",
       "    </tr>\n",
       "    <tr>\n",
       "      <th>3</th>\n",
       "      <td>even though i have great interest in biblical ...</td>\n",
       "      <td>0</td>\n",
       "      <td>69</td>\n",
       "      <td>[even, though, i, have, great, interest, in, b...</td>\n",
       "    </tr>\n",
       "    <tr>\n",
       "      <th>4</th>\n",
       "      <td>im a die hard dads army fan and nothing will e...</td>\n",
       "      <td>1</td>\n",
       "      <td>178</td>\n",
       "      <td>[im, a, die, hard, dads, army, fan, and, nothi...</td>\n",
       "    </tr>\n",
       "  </tbody>\n",
       "</table>\n",
       "</div>"
      ]
     },
     "execution_count": 45,
     "metadata": {},
     "output_type": "execute_result"
    }
   ],
   "execution_count": 45
  },
  {
   "cell_type": "code",
   "source": [
    "def evaluate_model(model, X_test, y_test):\n",
    "    # Predict class labels\n",
    "    y_pred = model.predict(X_test)\n",
    "    y_pred=y_pred>0.5\n",
    "    # For ROC-AUC, need prediction probabilities or decision function scores\n",
    "    if hasattr(model, \"predict_proba\"):\n",
    "        y_scores = model.predict_proba(X_test)[:, 1]\n",
    "    elif hasattr(model, \"decision_function\"):\n",
    "        y_scores = model.decision_function(X_test)\n",
    "        # Scale decision_function output to 0-1 for roc_auc_score if needed\n",
    "        y_scores = (y_scores - y_scores.min()) / (y_scores.max() - y_scores.min())\n",
    "    else:\n",
    "        # fallback: use predicted labels for ROC-AUC (less ideal)\n",
    "        y_scores = y_pred\n",
    "\n",
    "    # Calculate metrics\n",
    "    acc = accuracy_score(y_test, y_pred)\n",
    "    roc_auc = roc_auc_score(y_test, y_scores)\n",
    "    f1 = f1_score(y_test, y_pred)\n",
    "    cm = confusion_matrix(y_test, y_pred)\n",
    "\n",
    "    # Print results\n",
    "    print(f\"Accuracy Score: {acc:.4f}\")\n",
    "    print(f\"ROC-AUC Score: {roc_auc:.4f}\")\n",
    "    print(f\"F1 Score: {f1:.4f}\")\n",
    "    print(\"Confusion Matrix:\")\n",
    "    print(cm)"
   ],
   "metadata": {
    "id": "9mWUgktiV8pZ",
    "ExecuteTime": {
     "end_time": "2025-06-04T18:08:45.485878Z",
     "start_time": "2025-06-04T18:08:45.482188Z"
    }
   },
   "outputs": [],
   "execution_count": 50
  },
  {
   "cell_type": "code",
   "source": [
    "df['clean_text'] = df['stemmed'].apply(lambda x: ' '.join(x))\n",
    "X=df['clean_text']\n",
    "y=df['label']\n",
    "X_train, X_test, y_train, y_test = train_test_split(X, y, test_size=0.2, random_state=42)"
   ],
   "metadata": {
    "colab": {
     "base_uri": "https://localhost:8080/",
     "height": 193
    },
    "id": "W62hIrh1V-fh",
    "outputId": "f585ff2f-1a4a-4502-9b6b-a6cc9b4bbc36",
    "ExecuteTime": {
     "end_time": "2025-06-04T18:08:46.975401Z",
     "start_time": "2025-06-04T18:08:46.666156Z"
    }
   },
   "outputs": [],
   "execution_count": 51
  },
  {
   "cell_type": "code",
   "source": [
    "# BoW\n",
    "from sklearn.feature_extraction.text import CountVectorizer\n",
    "# Step 1 & 2: Vectorize text into BoW\n",
    "vectorizer = CountVectorizer()\n",
    "X_train_enc = vectorizer.fit_transform(X_train)  # Fit & transform on train data\n",
    "X_test_enc = vectorizer.transform(X_test)        # Transform on test data\n"
   ],
   "metadata": {
    "id": "OXSMzt8NWAlX",
    "ExecuteTime": {
     "end_time": "2025-06-04T18:08:56.625779Z",
     "start_time": "2025-06-04T18:08:54.434964Z"
    }
   },
   "outputs": [],
   "execution_count": 52
  },
  {
   "cell_type": "code",
   "source": [
    "# Logistic regression\n",
    "log = LogisticRegression()\n",
    "log.fit(X_train_enc, y_train)\n",
    "\n",
    "evaluate_model(log, X_test_enc, y_test)"
   ],
   "metadata": {
    "colab": {
     "base_uri": "https://localhost:8080/"
    },
    "id": "G6C9cV8bWBcp",
    "outputId": "bb7a3700-0915-40cc-cd74-7f7b1b8c8214",
    "ExecuteTime": {
     "end_time": "2025-06-04T18:08:59.893845Z",
     "start_time": "2025-06-04T18:08:57.529488Z"
    }
   },
   "outputs": [
    {
     "name": "stdout",
     "output_type": "stream",
     "text": [
      "Accuracy Score: 0.8755\n",
      "ROC-AUC Score: 0.9412\n",
      "F1 Score: 0.8760\n",
      "Confusion Matrix:\n",
      "[[3462  529]\n",
      " [ 460 3494]]\n"
     ]
    },
    {
     "name": "stderr",
     "output_type": "stream",
     "text": [
      "/Users/dmitt/PyCharmMiscProject/.venv/lib/python3.12/site-packages/sklearn/linear_model/_logistic.py:465: ConvergenceWarning: lbfgs failed to converge (status=1):\n",
      "STOP: TOTAL NO. of ITERATIONS REACHED LIMIT.\n",
      "\n",
      "Increase the number of iterations (max_iter) or scale the data as shown in:\n",
      "    https://scikit-learn.org/stable/modules/preprocessing.html\n",
      "Please also refer to the documentation for alternative solver options:\n",
      "    https://scikit-learn.org/stable/modules/linear_model.html#logistic-regression\n",
      "  n_iter_i = _check_optimize_result(\n"
     ]
    }
   ],
   "execution_count": 53
  },
  {
   "cell_type": "code",
   "source": [
    "# SVM\n",
    "svc=LinearSVC()\n",
    "svc.fit(X_train_enc, y_train)\n",
    "evaluate_model(svc, X_test_enc, y_test)"
   ],
   "metadata": {
    "colab": {
     "base_uri": "https://localhost:8080/"
    },
    "id": "6RUcJnFqWCoI",
    "outputId": "2eaf7a55-47b2-4883-92cc-5fba9adee27a",
    "ExecuteTime": {
     "end_time": "2025-06-04T18:09:08.323618Z",
     "start_time": "2025-06-04T18:09:04.309476Z"
    }
   },
   "outputs": [
    {
     "name": "stdout",
     "output_type": "stream",
     "text": [
      "Accuracy Score: 0.8551\n",
      "ROC-AUC Score: 0.9243\n",
      "F1 Score: 0.8559\n",
      "Confusion Matrix:\n",
      "[[3377  614]\n",
      " [ 537 3417]]\n"
     ]
    },
    {
     "name": "stderr",
     "output_type": "stream",
     "text": [
      "/Users/dmitt/PyCharmMiscProject/.venv/lib/python3.12/site-packages/sklearn/svm/_base.py:1249: ConvergenceWarning: Liblinear failed to converge, increase the number of iterations.\n",
      "  warnings.warn(\n"
     ]
    }
   ],
   "execution_count": 54
  },
  {
   "cell_type": "code",
   "source": [
    "# Random forest\n",
    "rnd_forest=RandomForestClassifier(n_estimators=100,random_state=42)\n",
    "rnd_forest.fit(X_train_enc, y_train)\n",
    "evaluate_model(rnd_forest, X_test_enc, y_test)"
   ],
   "metadata": {
    "colab": {
     "base_uri": "https://localhost:8080/"
    },
    "id": "cdtD00WzWDnc",
    "outputId": "e362aefc-cd2d-4b58-cdff-0683d884b0ea",
    "ExecuteTime": {
     "end_time": "2025-06-04T18:09:39.919761Z",
     "start_time": "2025-06-04T18:09:10.216776Z"
    }
   },
   "outputs": [
    {
     "name": "stdout",
     "output_type": "stream",
     "text": [
      "Accuracy Score: 0.8422\n",
      "ROC-AUC Score: 0.9208\n",
      "F1 Score: 0.8427\n",
      "Confusion Matrix:\n",
      "[[3333  658]\n",
      " [ 596 3358]]\n"
     ]
    }
   ],
   "execution_count": 55
  },
  {
   "cell_type": "code",
   "source": [
    "# Naive Bayes\n",
    "bern=BernoulliNB()\n",
    "bern.fit(X_train_enc, y_train)\n",
    "evaluate_model(bern, X_test_enc, y_test)"
   ],
   "metadata": {
    "colab": {
     "base_uri": "https://localhost:8080/"
    },
    "id": "VRRqViaIWEjo",
    "outputId": "bece6829-35fc-4c60-fffe-ec282ef2e204",
    "ExecuteTime": {
     "end_time": "2025-06-04T18:09:40.012473Z",
     "start_time": "2025-06-04T18:09:39.943478Z"
    }
   },
   "outputs": [
    {
     "name": "stdout",
     "output_type": "stream",
     "text": [
      "Accuracy Score: 0.8476\n",
      "ROC-AUC Score: 0.9200\n",
      "F1 Score: 0.8441\n",
      "Confusion Matrix:\n",
      "[[3456  535]\n",
      " [ 676 3278]]\n"
     ]
    }
   ],
   "execution_count": 56
  },
  {
   "cell_type": "code",
   "source": [
    "import numpy as np\n",
    "from tensorflow.keras.models import Sequential\n",
    "from tensorflow.keras.layers import Dense\n",
    "from tensorflow.keras.optimizers import Adam\n",
    "from sklearn.metrics import classification_report\n",
    "\n",
    "# Convert sparse matrix to dense (only for BoW or TF-IDF)\n",
    "X_train_enc = X_train_enc.toarray() if not isinstance(X_train_enc, np.ndarray) else X_train_enc\n",
    "X_test_enc = X_test_enc.toarray() if not isinstance(X_test_enc, np.ndarray) else X_test_enc\n",
    "\n",
    "# Define ANN model\n",
    "ann = Sequential([\n",
    "    Dense(64, input_dim=X_train_enc.shape[1], activation='relu'),\n",
    "    Dense(32, activation='relu'),\n",
    "    Dense(1, activation='sigmoid')\n",
    "])\n",
    "\n",
    "# Compile\n",
    "ann.compile(optimizer=Adam(learning_rate=0.001),\n",
    "            loss='binary_crossentropy',\n",
    "            metrics=['accuracy'])\n",
    "\n",
    "# Train\n",
    "ann.fit(X_train_enc, y_train, epochs=10, batch_size=32, verbose=1)\n",
    "\n",
    "evaluate_model(ann, X_test_enc, y_test)"
   ],
   "metadata": {
    "id": "Qly60OnYWFnC",
    "jupyter": {
     "is_executing": true
    },
    "ExecuteTime": {
     "start_time": "2025-06-04T15:24:39.344973Z"
    }
   },
   "outputs": [
    {
     "name": "stderr",
     "output_type": "stream",
     "text": [
      "/Users/dmitt/PyCharmMiscProject/.venv/lib/python3.12/site-packages/keras/src/layers/core/dense.py:93: UserWarning: Do not pass an `input_shape`/`input_dim` argument to a layer. When using Sequential models, prefer using an `Input(shape)` object as the first layer in the model instead.\n",
      "  super().__init__(activity_regularizer=activity_regularizer, **kwargs)\n"
     ]
    }
   ],
   "execution_count": null
  },
  {
   "cell_type": "code",
   "source": [
    "# OneHotEncoding\n",
    "from sklearn.feature_extraction.text import CountVectorizer\n",
    "# Step 1 & 2: Vectorize text into BoW\n",
    "vectorizer = CountVectorizer(binary=True)\n",
    "X_train_enc = vectorizer.fit_transform(X_train)  # Fit & transform on train data\n",
    "X_test_enc = vectorizer.transform(X_test)        # Transform on test data"
   ],
   "metadata": {
    "id": "9gnzCCOSWGmR",
    "ExecuteTime": {
     "end_time": "2025-06-04T18:09:42.259513Z",
     "start_time": "2025-06-04T18:09:40.024222Z"
    }
   },
   "outputs": [],
   "execution_count": 57
  },
  {
   "cell_type": "code",
   "source": [
    "# Logistic regression\n",
    "log = LogisticRegression()\n",
    "log.fit(X_train_enc, y_train)\n",
    "\n",
    "evaluate_model(log, X_test_enc, y_test)"
   ],
   "metadata": {
    "colab": {
     "base_uri": "https://localhost:8080/"
    },
    "id": "g2Zb9D1iWS62",
    "outputId": "f825a25d-1cd3-4b77-b852-1e9e159d10fc",
    "ExecuteTime": {
     "end_time": "2025-06-04T18:09:44.609333Z",
     "start_time": "2025-06-04T18:09:42.268352Z"
    }
   },
   "outputs": [
    {
     "name": "stdout",
     "output_type": "stream",
     "text": [
      "Accuracy Score: 0.8692\n",
      "ROC-AUC Score: 0.9407\n",
      "F1 Score: 0.8695\n",
      "Confusion Matrix:\n",
      "[[3444  547]\n",
      " [ 492 3462]]\n"
     ]
    },
    {
     "name": "stderr",
     "output_type": "stream",
     "text": [
      "/Users/dmitt/PyCharmMiscProject/.venv/lib/python3.12/site-packages/sklearn/linear_model/_logistic.py:465: ConvergenceWarning: lbfgs failed to converge (status=1):\n",
      "STOP: TOTAL NO. of ITERATIONS REACHED LIMIT.\n",
      "\n",
      "Increase the number of iterations (max_iter) or scale the data as shown in:\n",
      "    https://scikit-learn.org/stable/modules/preprocessing.html\n",
      "Please also refer to the documentation for alternative solver options:\n",
      "    https://scikit-learn.org/stable/modules/linear_model.html#logistic-regression\n",
      "  n_iter_i = _check_optimize_result(\n"
     ]
    }
   ],
   "execution_count": 58
  },
  {
   "cell_type": "code",
   "source": [
    "# SVM\n",
    "svc=LinearSVC()\n",
    "svc.fit(X_train_enc, y_train)\n",
    "evaluate_model(svc, X_test_enc, y_test)"
   ],
   "metadata": {
    "colab": {
     "base_uri": "https://localhost:8080/"
    },
    "id": "2e2eLOWmWfJC",
    "outputId": "88f8f622-59b6-49d4-93e1-de4ebd54ed9a",
    "ExecuteTime": {
     "end_time": "2025-06-04T18:09:47.487413Z",
     "start_time": "2025-06-04T18:09:44.682219Z"
    }
   },
   "outputs": [
    {
     "name": "stdout",
     "output_type": "stream",
     "text": [
      "Accuracy Score: 0.8540\n",
      "ROC-AUC Score: 0.9252\n",
      "F1 Score: 0.8541\n",
      "Confusion Matrix:\n",
      "[[3389  602]\n",
      " [ 558 3396]]\n"
     ]
    }
   ],
   "execution_count": 59
  },
  {
   "cell_type": "code",
   "source": [
    "# Random forest\n",
    "rnd_forest=RandomForestClassifier(n_estimators=100,random_state=42)\n",
    "rnd_forest.fit(X_train_enc, y_train)\n",
    "evaluate_model(rnd_forest, X_test_enc, y_test)"
   ],
   "metadata": {
    "colab": {
     "base_uri": "https://localhost:8080/"
    },
    "id": "eS2FC_jNXH3p",
    "outputId": "ead2d47c-6be0-4781-b866-83f31247208a",
    "ExecuteTime": {
     "end_time": "2025-06-04T18:10:18.902415Z",
     "start_time": "2025-06-04T18:09:47.502117Z"
    }
   },
   "outputs": [
    {
     "name": "stdout",
     "output_type": "stream",
     "text": [
      "Accuracy Score: 0.8467\n",
      "ROC-AUC Score: 0.9230\n",
      "F1 Score: 0.8465\n",
      "Confusion Matrix:\n",
      "[[3368  623]\n",
      " [ 595 3359]]\n"
     ]
    }
   ],
   "execution_count": 60
  },
  {
   "cell_type": "code",
   "source": [
    "# Naive Bayes\n",
    "bern=BernoulliNB()\n",
    "bern.fit(X_train_enc, y_train)\n",
    "evaluate_model(bern, X_test_enc, y_test)"
   ],
   "metadata": {
    "colab": {
     "base_uri": "https://localhost:8080/"
    },
    "id": "e29dqBZ-XJeO",
    "outputId": "f2124538-d6fb-4d92-e0ab-608c4e8f6ebd",
    "ExecuteTime": {
     "end_time": "2025-06-04T18:10:19.005928Z",
     "start_time": "2025-06-04T18:10:18.927263Z"
    }
   },
   "outputs": [
    {
     "name": "stdout",
     "output_type": "stream",
     "text": [
      "Accuracy Score: 0.8476\n",
      "ROC-AUC Score: 0.9200\n",
      "F1 Score: 0.8441\n",
      "Confusion Matrix:\n",
      "[[3456  535]\n",
      " [ 676 3278]]\n"
     ]
    }
   ],
   "execution_count": 61
  },
  {
   "cell_type": "code",
   "source": [
    "# ANN\n",
    "X_train_enc=X_train_enc.toarray()\n",
    "X_test_enc=X_test_enc.toarray()\n",
    "ann = Sequential([\n",
    "    Dense(5, input_dim=X_train_enc.shape[1], activation='relu'),\n",
    "    Dense(5,  activation='relu'),\n",
    "    Dense(1, activation='sigmoid')  # for binary classification\n",
    "])\n",
    "\n",
    "# Step 4: Compile the model\n",
    "ann.compile(optimizer=Adam(learning_rate=0.01), loss='binary_crossentropy', metrics=['accuracy'])\n",
    "\n",
    "# Step 5: Train\n",
    "ann.fit(X_train_enc, y_train, epochs=10, batch_size=2, verbose=1)\n",
    "evaluate_model(ann, X_test_enc, y_test)"
   ],
   "metadata": {
    "id": "_ibF4rKQXKgn"
   },
   "execution_count": null,
   "outputs": []
  },
  {
   "cell_type": "code",
   "source": [
    "# TF-IDF vectorizer\n",
    "from sklearn.feature_extraction.text import TfidfVectorizer\n",
    "vectorizer = TfidfVectorizer()\n",
    "X_train_enc = vectorizer.fit_transform(X_train)  # Fit on training data\n",
    "X_test_enc = vectorizer.transform(X_test)        # Transform test data"
   ],
   "metadata": {
    "id": "KV-bXbQjXMkX",
    "ExecuteTime": {
     "end_time": "2025-06-04T18:10:21.188573Z",
     "start_time": "2025-06-04T18:10:19.020798Z"
    }
   },
   "outputs": [],
   "execution_count": 62
  },
  {
   "cell_type": "code",
   "source": [
    "# Logistic regression\n",
    "log = LogisticRegression()\n",
    "log.fit(X_train_enc, y_train)\n",
    "\n",
    "evaluate_model(log, X_test_enc, y_test)"
   ],
   "metadata": {
    "colab": {
     "base_uri": "https://localhost:8080/"
    },
    "id": "RmAcD2dzX1Cv",
    "outputId": "2b102897-0d46-486c-acf9-c80cf60d1bcf",
    "ExecuteTime": {
     "end_time": "2025-06-04T18:10:22.066217Z",
     "start_time": "2025-06-04T18:10:21.196602Z"
    }
   },
   "outputs": [
    {
     "name": "stdout",
     "output_type": "stream",
     "text": [
      "Accuracy Score: 0.8868\n",
      "ROC-AUC Score: 0.9550\n",
      "F1 Score: 0.8881\n",
      "Confusion Matrix:\n",
      "[[3480  511]\n",
      " [ 388 3566]]\n"
     ]
    }
   ],
   "execution_count": 63
  },
  {
   "cell_type": "code",
   "source": [
    "# SVM\n",
    "svc=LinearSVC()\n",
    "svc.fit(X_train_enc, y_train)\n",
    "evaluate_model(svc, X_test_enc, y_test)"
   ],
   "metadata": {
    "colab": {
     "base_uri": "https://localhost:8080/"
    },
    "id": "BPcT3giHX63j",
    "outputId": "40a4f48b-54b8-49f1-c4a7-470d3bf4e89b",
    "ExecuteTime": {
     "end_time": "2025-06-04T18:10:22.540377Z",
     "start_time": "2025-06-04T18:10:22.088284Z"
    }
   },
   "outputs": [
    {
     "name": "stdout",
     "output_type": "stream",
     "text": [
      "Accuracy Score: 0.8875\n",
      "ROC-AUC Score: 0.9561\n",
      "F1 Score: 0.8882\n",
      "Confusion Matrix:\n",
      "[[3498  493]\n",
      " [ 401 3553]]\n"
     ]
    }
   ],
   "execution_count": 64
  },
  {
   "cell_type": "code",
   "source": [
    "# Random forest\n",
    "rnd_forest=RandomForestClassifier(n_estimators=100,random_state=42)\n",
    "rnd_forest.fit(X_train_enc, y_train)\n",
    "evaluate_model(rnd_forest, X_test_enc, y_test)"
   ],
   "metadata": {
    "colab": {
     "base_uri": "https://localhost:8080/"
    },
    "id": "i8-O3TPbX70E",
    "outputId": "5bd790ad-8d28-4f7d-ce0d-1803dedb7d57",
    "ExecuteTime": {
     "end_time": "2025-06-04T18:10:49.328776Z",
     "start_time": "2025-06-04T18:10:22.551980Z"
    }
   },
   "outputs": [
    {
     "name": "stdout",
     "output_type": "stream",
     "text": [
      "Accuracy Score: 0.8331\n",
      "ROC-AUC Score: 0.9127\n",
      "F1 Score: 0.8320\n",
      "Confusion Matrix:\n",
      "[[3336  655]\n",
      " [ 671 3283]]\n"
     ]
    }
   ],
   "execution_count": 65
  },
  {
   "cell_type": "code",
   "source": [
    "# Naive Bayes\n",
    "bern=BernoulliNB()\n",
    "bern.fit(X_train_enc, y_train)\n",
    "evaluate_model(bern, X_test_enc, y_test)"
   ],
   "metadata": {
    "colab": {
     "base_uri": "https://localhost:8080/"
    },
    "id": "fzsNd31uX8p7",
    "outputId": "07997ba3-7d1d-4b15-a3fb-db55ddc04ef2",
    "ExecuteTime": {
     "end_time": "2025-06-04T18:10:49.427953Z",
     "start_time": "2025-06-04T18:10:49.352998Z"
    }
   },
   "outputs": [
    {
     "name": "stdout",
     "output_type": "stream",
     "text": [
      "Accuracy Score: 0.8476\n",
      "ROC-AUC Score: 0.9200\n",
      "F1 Score: 0.8441\n",
      "Confusion Matrix:\n",
      "[[3456  535]\n",
      " [ 676 3278]]\n"
     ]
    }
   ],
   "execution_count": 66
  },
  {
   "cell_type": "code",
   "source": [
    "import numpy as np\n",
    "from tensorflow.keras.models import Sequential\n",
    "from tensorflow.keras.layers import Dense\n",
    "from tensorflow.keras.optimizers import Adam\n",
    "from sklearn.metrics import classification_report\n",
    "\n",
    "# Convert sparse matrix to dense (only for BoW or TF-IDF)\n",
    "X_train_enc = X_train_enc.toarray() if not isinstance(X_train_enc, np.ndarray) else X_train_enc\n",
    "X_test_enc = X_test_enc.toarray() if not isinstance(X_test_enc, np.ndarray) else X_test_enc\n",
    "\n",
    "# Define ANN model\n",
    "ann = Sequential([\n",
    "    Dense(64, input_dim=X_train_enc.shape[1], activation='relu'),\n",
    "    Dense(32, activation='relu'),\n",
    "    Dense(1, activation='sigmoid')\n",
    "])\n",
    "\n",
    "# Compile\n",
    "ann.compile(optimizer=Adam(learning_rate=0.001),\n",
    "            loss='binary_crossentropy',\n",
    "            metrics=['accuracy'])\n",
    "\n",
    "# Train\n",
    "ann.fit(X_train_enc, y_train, epochs=10, batch_size=32, verbose=1)\n",
    "\n",
    "evaluate_model(ann, X_test_enc, y_test)"
   ],
   "metadata": {
    "id": "c_6r8QWMX9jy"
   },
   "execution_count": null,
   "outputs": []
  },
  {
   "cell_type": "code",
   "source": [
    "# Word2Vec\n",
    "import numpy as np\n",
    "from gensim.models import Word2Vec\n",
    "\n",
    "# Tokenize your documents into words\n",
    "X_train_tok = [doc.split() for doc in X_train]\n",
    "X_test_tok = [doc.split() for doc in X_test]\n",
    "\n",
    "# Train Word2Vec on training tokens\n",
    "model = Word2Vec(sentences=X_train_tok, vector_size=100, window=5, min_count=1, workers=4)\n",
    "\n",
    "# Function to get average Word2Vec embedding for a document\n",
    "def get_avg_vector(doc, model, vector_size):\n",
    "    vecs = [model.wv[word] for word in doc if word in model.wv]\n",
    "    return np.mean(vecs, axis=0) if vecs else np.zeros(vector_size)\n",
    "\n",
    "# Convert documents to vectors\n",
    "X_train_enc = np.array([get_avg_vector(doc, model, 100) for doc in X_train_tok])\n",
    "X_test_enc = np.array([get_avg_vector(doc, model, 100) for doc in X_test_tok])"
   ],
   "metadata": {
    "colab": {
     "base_uri": "https://localhost:8080/",
     "height": 211
    },
    "id": "H7UOwrS0Zo6W",
    "outputId": "be0f59a6-e4d4-4ec2-e217-cffda50b489a",
    "ExecuteTime": {
     "end_time": "2025-06-04T18:11:05.384728Z",
     "start_time": "2025-06-04T18:10:49.444177Z"
    }
   },
   "outputs": [],
   "execution_count": 67
  },
  {
   "cell_type": "code",
   "source": [
    "# Logistic regression\n",
    "log = LogisticRegression()\n",
    "log.fit(X_train_enc, y_train)\n",
    "\n",
    "evaluate_model(log, X_test_enc, y_test)"
   ],
   "metadata": {
    "colab": {
     "base_uri": "https://localhost:8080/",
     "height": 211
    },
    "id": "yQ7XyMHudEIo",
    "outputId": "45bd40b6-99de-4700-ea6b-0de2a8d3e7ef",
    "ExecuteTime": {
     "end_time": "2025-06-04T18:11:07.545377Z",
     "start_time": "2025-06-04T18:11:05.431165Z"
    }
   },
   "outputs": [
    {
     "name": "stdout",
     "output_type": "stream",
     "text": [
      "Accuracy Score: 0.8378\n",
      "ROC-AUC Score: 0.9159\n",
      "F1 Score: 0.8385\n",
      "Confusion Matrix:\n",
      "[[3311  680]\n",
      " [ 609 3345]]\n"
     ]
    }
   ],
   "execution_count": 68
  },
  {
   "cell_type": "code",
   "source": [
    "# SVM\n",
    "svc=LinearSVC()\n",
    "svc.fit(X_train_enc, y_train)\n",
    "evaluate_model(svc, X_test_enc, y_test)"
   ],
   "metadata": {
    "colab": {
     "base_uri": "https://localhost:8080/",
     "height": 193
    },
    "id": "fiqY-zOqeI4B",
    "outputId": "796d79ea-8fa0-4839-e3f0-6a3d2f9b29c1",
    "ExecuteTime": {
     "end_time": "2025-06-04T18:11:08.725686Z",
     "start_time": "2025-06-04T18:11:07.711758Z"
    }
   },
   "outputs": [
    {
     "name": "stdout",
     "output_type": "stream",
     "text": [
      "Accuracy Score: 0.8376\n",
      "ROC-AUC Score: 0.9159\n",
      "F1 Score: 0.8385\n",
      "Confusion Matrix:\n",
      "[[3305  686]\n",
      " [ 604 3350]]\n"
     ]
    }
   ],
   "execution_count": 69
  },
  {
   "cell_type": "code",
   "source": [
    "# Random forest\n",
    "rnd_forest=RandomForestClassifier(n_estimators=100,random_state=42)\n",
    "rnd_forest.fit(X_train_enc, y_train)\n",
    "evaluate_model(rnd_forest, X_test_enc, y_test)"
   ],
   "metadata": {
    "colab": {
     "base_uri": "https://localhost:8080/",
     "height": 193
    },
    "id": "YFjidEiceK-X",
    "outputId": "5d0d4495-6ef1-4314-9ba7-5de3a69593cf",
    "ExecuteTime": {
     "end_time": "2025-06-04T18:11:29.794827Z",
     "start_time": "2025-06-04T18:11:08.801554Z"
    }
   },
   "outputs": [
    {
     "name": "stdout",
     "output_type": "stream",
     "text": [
      "Accuracy Score: 0.7992\n",
      "ROC-AUC Score: 0.8796\n",
      "F1 Score: 0.8031\n",
      "Confusion Matrix:\n",
      "[[3098  893]\n",
      " [ 702 3252]]\n"
     ]
    }
   ],
   "execution_count": 70
  },
  {
   "cell_type": "code",
   "source": [
    "# Naive Bayes\n",
    "bern=BernoulliNB()\n",
    "bern.fit(X_train_enc, y_train)\n",
    "evaluate_model(bern, X_test_enc, y_test)"
   ],
   "metadata": {
    "colab": {
     "base_uri": "https://localhost:8080/",
     "height": 193
    },
    "id": "eRIhCNe0eMzV",
    "outputId": "adbe7902-8a2c-43e8-f94d-becb9b8aa947",
    "ExecuteTime": {
     "end_time": "2025-06-04T18:11:29.917290Z",
     "start_time": "2025-06-04T18:11:29.845774Z"
    }
   },
   "outputs": [
    {
     "name": "stdout",
     "output_type": "stream",
     "text": [
      "Accuracy Score: 0.6876\n",
      "ROC-AUC Score: 0.7572\n",
      "F1 Score: 0.6741\n",
      "Confusion Matrix:\n",
      "[[2896 1095]\n",
      " [1387 2567]]\n"
     ]
    }
   ],
   "execution_count": 71
  },
  {
   "cell_type": "code",
   "source": [
    "import numpy as np\n",
    "from tensorflow.keras.models import Sequential\n",
    "from tensorflow.keras.layers import Dense\n",
    "from tensorflow.keras.optimizers import Adam\n",
    "from sklearn.metrics import classification_report\n",
    "\n",
    "# Convert sparse matrix to dense (only for BoW or TF-IDF)\n",
    "X_train_enc = X_train_enc.toarray() if not isinstance(X_train_enc, np.ndarray) else X_train_enc\n",
    "X_test_enc = X_test_enc.toarray() if not isinstance(X_test_enc, np.ndarray) else X_test_enc\n",
    "\n",
    "# Define ANN model\n",
    "ann = Sequential([\n",
    "    Dense(64, input_dim=X_train_enc.shape[1], activation='relu'),\n",
    "    Dense(32, activation='relu'),\n",
    "    Dense(1, activation='sigmoid')\n",
    "])\n",
    "\n",
    "# Compile\n",
    "ann.compile(optimizer=Adam(learning_rate=0.001),\n",
    "            loss='binary_crossentropy',\n",
    "            metrics=['accuracy'])\n",
    "\n",
    "# Train\n",
    "ann.fit(X_train_enc, y_train, epochs=10, batch_size=32, verbose=1)\n",
    "\n",
    "evaluate_model(ann, X_test_enc, y_test)"
   ],
   "metadata": {
    "colab": {
     "base_uri": "https://localhost:8080/",
     "height": 356
    },
    "id": "laBOrF6NeOGw",
    "outputId": "60394d2d-ccb3-4de8-d754-d04bd89fe16d"
   },
   "execution_count": null,
   "outputs": [
    {
     "output_type": "error",
     "ename": "AttributeError",
     "evalue": "module 'numpy' has no attribute 'dtypes'",
     "traceback": [
      "\u001B[0;31m---------------------------------------------------------------------------\u001B[0m",
      "\u001B[0;31mAttributeError\u001B[0m                            Traceback (most recent call last)",
      "\u001B[0;32m<ipython-input-6-0bb2ad6bdcb1>\u001B[0m in \u001B[0;36m<cell line: 0>\u001B[0;34m()\u001B[0m\n\u001B[1;32m      1\u001B[0m \u001B[0;32mimport\u001B[0m \u001B[0mnumpy\u001B[0m \u001B[0;32mas\u001B[0m \u001B[0mnp\u001B[0m\u001B[0;34m\u001B[0m\u001B[0;34m\u001B[0m\u001B[0m\n\u001B[0;32m----> 2\u001B[0;31m \u001B[0;32mfrom\u001B[0m \u001B[0mtensorflow\u001B[0m\u001B[0;34m.\u001B[0m\u001B[0mkeras\u001B[0m\u001B[0;34m.\u001B[0m\u001B[0mmodels\u001B[0m \u001B[0;32mimport\u001B[0m \u001B[0mSequential\u001B[0m\u001B[0;34m\u001B[0m\u001B[0;34m\u001B[0m\u001B[0m\n\u001B[0m\u001B[1;32m      3\u001B[0m \u001B[0;32mfrom\u001B[0m \u001B[0mtensorflow\u001B[0m\u001B[0;34m.\u001B[0m\u001B[0mkeras\u001B[0m\u001B[0;34m.\u001B[0m\u001B[0mlayers\u001B[0m \u001B[0;32mimport\u001B[0m \u001B[0mDense\u001B[0m\u001B[0;34m\u001B[0m\u001B[0;34m\u001B[0m\u001B[0m\n\u001B[1;32m      4\u001B[0m \u001B[0;32mfrom\u001B[0m \u001B[0mtensorflow\u001B[0m\u001B[0;34m.\u001B[0m\u001B[0mkeras\u001B[0m\u001B[0;34m.\u001B[0m\u001B[0moptimizers\u001B[0m \u001B[0;32mimport\u001B[0m \u001B[0mAdam\u001B[0m\u001B[0;34m\u001B[0m\u001B[0;34m\u001B[0m\u001B[0m\n\u001B[1;32m      5\u001B[0m \u001B[0;32mfrom\u001B[0m \u001B[0msklearn\u001B[0m\u001B[0;34m.\u001B[0m\u001B[0mmetrics\u001B[0m \u001B[0;32mimport\u001B[0m \u001B[0mclassification_report\u001B[0m\u001B[0;34m\u001B[0m\u001B[0;34m\u001B[0m\u001B[0m\n",
      "\u001B[0;32m/usr/local/lib/python3.11/dist-packages/tensorflow/__init__.py\u001B[0m in \u001B[0;36m<module>\u001B[0;34m\u001B[0m\n\u001B[1;32m     53\u001B[0m \u001B[0;32mfrom\u001B[0m \u001B[0mtensorflow\u001B[0m\u001B[0;34m.\u001B[0m\u001B[0m_api\u001B[0m\u001B[0;34m.\u001B[0m\u001B[0mv2\u001B[0m \u001B[0;32mimport\u001B[0m \u001B[0mautograph\u001B[0m\u001B[0;34m\u001B[0m\u001B[0;34m\u001B[0m\u001B[0m\n\u001B[1;32m     54\u001B[0m \u001B[0;32mfrom\u001B[0m \u001B[0mtensorflow\u001B[0m\u001B[0;34m.\u001B[0m\u001B[0m_api\u001B[0m\u001B[0;34m.\u001B[0m\u001B[0mv2\u001B[0m \u001B[0;32mimport\u001B[0m \u001B[0mbitwise\u001B[0m\u001B[0;34m\u001B[0m\u001B[0;34m\u001B[0m\u001B[0m\n\u001B[0;32m---> 55\u001B[0;31m \u001B[0;32mfrom\u001B[0m \u001B[0mtensorflow\u001B[0m\u001B[0;34m.\u001B[0m\u001B[0m_api\u001B[0m\u001B[0;34m.\u001B[0m\u001B[0mv2\u001B[0m \u001B[0;32mimport\u001B[0m \u001B[0mcompat\u001B[0m\u001B[0;34m\u001B[0m\u001B[0;34m\u001B[0m\u001B[0m\n\u001B[0m\u001B[1;32m     56\u001B[0m \u001B[0;32mfrom\u001B[0m \u001B[0mtensorflow\u001B[0m\u001B[0;34m.\u001B[0m\u001B[0m_api\u001B[0m\u001B[0;34m.\u001B[0m\u001B[0mv2\u001B[0m \u001B[0;32mimport\u001B[0m \u001B[0mconfig\u001B[0m\u001B[0;34m\u001B[0m\u001B[0;34m\u001B[0m\u001B[0m\n\u001B[1;32m     57\u001B[0m \u001B[0;32mfrom\u001B[0m \u001B[0mtensorflow\u001B[0m\u001B[0;34m.\u001B[0m\u001B[0m_api\u001B[0m\u001B[0;34m.\u001B[0m\u001B[0mv2\u001B[0m \u001B[0;32mimport\u001B[0m \u001B[0mdata\u001B[0m\u001B[0;34m\u001B[0m\u001B[0;34m\u001B[0m\u001B[0m\n",
      "\u001B[0;32m/usr/local/lib/python3.11/dist-packages/tensorflow/_api/v2/compat/__init__.py\u001B[0m in \u001B[0;36m<module>\u001B[0;34m\u001B[0m\n\u001B[1;32m      6\u001B[0m \u001B[0;32mimport\u001B[0m \u001B[0msys\u001B[0m \u001B[0;32mas\u001B[0m \u001B[0m_sys\u001B[0m\u001B[0;34m\u001B[0m\u001B[0;34m\u001B[0m\u001B[0m\n\u001B[1;32m      7\u001B[0m \u001B[0;34m\u001B[0m\u001B[0m\n\u001B[0;32m----> 8\u001B[0;31m \u001B[0;32mfrom\u001B[0m \u001B[0mtensorflow\u001B[0m\u001B[0;34m.\u001B[0m\u001B[0m_api\u001B[0m\u001B[0;34m.\u001B[0m\u001B[0mv2\u001B[0m\u001B[0;34m.\u001B[0m\u001B[0mcompat\u001B[0m \u001B[0;32mimport\u001B[0m \u001B[0mv1\u001B[0m\u001B[0;34m\u001B[0m\u001B[0;34m\u001B[0m\u001B[0m\n\u001B[0m\u001B[1;32m      9\u001B[0m \u001B[0;32mfrom\u001B[0m \u001B[0mtensorflow\u001B[0m\u001B[0;34m.\u001B[0m\u001B[0m_api\u001B[0m\u001B[0;34m.\u001B[0m\u001B[0mv2\u001B[0m\u001B[0;34m.\u001B[0m\u001B[0mcompat\u001B[0m \u001B[0;32mimport\u001B[0m \u001B[0mv2\u001B[0m\u001B[0;34m\u001B[0m\u001B[0;34m\u001B[0m\u001B[0m\n\u001B[1;32m     10\u001B[0m \u001B[0;32mfrom\u001B[0m \u001B[0mtensorflow\u001B[0m\u001B[0;34m.\u001B[0m\u001B[0mpython\u001B[0m\u001B[0;34m.\u001B[0m\u001B[0mcompat\u001B[0m\u001B[0;34m.\u001B[0m\u001B[0mcompat\u001B[0m \u001B[0;32mimport\u001B[0m \u001B[0mforward_compatibility_horizon\u001B[0m \u001B[0;31m# line: 125\u001B[0m\u001B[0;34m\u001B[0m\u001B[0;34m\u001B[0m\u001B[0m\n",
      "\u001B[0;32m/usr/local/lib/python3.11/dist-packages/tensorflow/_api/v2/compat/v1/__init__.py\u001B[0m in \u001B[0;36m<module>\u001B[0;34m\u001B[0m\n\u001B[1;32m     28\u001B[0m \u001B[0;32mfrom\u001B[0m \u001B[0mtensorflow\u001B[0m\u001B[0;34m.\u001B[0m\u001B[0m_api\u001B[0m\u001B[0;34m.\u001B[0m\u001B[0mv2\u001B[0m\u001B[0;34m.\u001B[0m\u001B[0mcompat\u001B[0m\u001B[0;34m.\u001B[0m\u001B[0mv1\u001B[0m \u001B[0;32mimport\u001B[0m \u001B[0mautograph\u001B[0m\u001B[0;34m\u001B[0m\u001B[0;34m\u001B[0m\u001B[0m\n\u001B[1;32m     29\u001B[0m \u001B[0;32mfrom\u001B[0m \u001B[0mtensorflow\u001B[0m\u001B[0;34m.\u001B[0m\u001B[0m_api\u001B[0m\u001B[0;34m.\u001B[0m\u001B[0mv2\u001B[0m\u001B[0;34m.\u001B[0m\u001B[0mcompat\u001B[0m\u001B[0;34m.\u001B[0m\u001B[0mv1\u001B[0m \u001B[0;32mimport\u001B[0m \u001B[0mbitwise\u001B[0m\u001B[0;34m\u001B[0m\u001B[0;34m\u001B[0m\u001B[0m\n\u001B[0;32m---> 30\u001B[0;31m \u001B[0;32mfrom\u001B[0m \u001B[0mtensorflow\u001B[0m\u001B[0;34m.\u001B[0m\u001B[0m_api\u001B[0m\u001B[0;34m.\u001B[0m\u001B[0mv2\u001B[0m\u001B[0;34m.\u001B[0m\u001B[0mcompat\u001B[0m\u001B[0;34m.\u001B[0m\u001B[0mv1\u001B[0m \u001B[0;32mimport\u001B[0m \u001B[0mcompat\u001B[0m\u001B[0;34m\u001B[0m\u001B[0;34m\u001B[0m\u001B[0m\n\u001B[0m\u001B[1;32m     31\u001B[0m \u001B[0;32mfrom\u001B[0m \u001B[0mtensorflow\u001B[0m\u001B[0;34m.\u001B[0m\u001B[0m_api\u001B[0m\u001B[0;34m.\u001B[0m\u001B[0mv2\u001B[0m\u001B[0;34m.\u001B[0m\u001B[0mcompat\u001B[0m\u001B[0;34m.\u001B[0m\u001B[0mv1\u001B[0m \u001B[0;32mimport\u001B[0m \u001B[0mconfig\u001B[0m\u001B[0;34m\u001B[0m\u001B[0;34m\u001B[0m\u001B[0m\n\u001B[1;32m     32\u001B[0m \u001B[0;32mfrom\u001B[0m \u001B[0mtensorflow\u001B[0m\u001B[0;34m.\u001B[0m\u001B[0m_api\u001B[0m\u001B[0;34m.\u001B[0m\u001B[0mv2\u001B[0m\u001B[0;34m.\u001B[0m\u001B[0mcompat\u001B[0m\u001B[0;34m.\u001B[0m\u001B[0mv1\u001B[0m \u001B[0;32mimport\u001B[0m \u001B[0mdata\u001B[0m\u001B[0;34m\u001B[0m\u001B[0;34m\u001B[0m\u001B[0m\n",
      "\u001B[0;32m/usr/local/lib/python3.11/dist-packages/tensorflow/_api/v2/compat/v1/compat/__init__.py\u001B[0m in \u001B[0;36m<module>\u001B[0;34m\u001B[0m\n\u001B[1;32m      6\u001B[0m \u001B[0;32mimport\u001B[0m \u001B[0msys\u001B[0m \u001B[0;32mas\u001B[0m \u001B[0m_sys\u001B[0m\u001B[0;34m\u001B[0m\u001B[0;34m\u001B[0m\u001B[0m\n\u001B[1;32m      7\u001B[0m \u001B[0;34m\u001B[0m\u001B[0m\n\u001B[0;32m----> 8\u001B[0;31m \u001B[0;32mfrom\u001B[0m \u001B[0mtensorflow\u001B[0m\u001B[0;34m.\u001B[0m\u001B[0m_api\u001B[0m\u001B[0;34m.\u001B[0m\u001B[0mv2\u001B[0m\u001B[0;34m.\u001B[0m\u001B[0mcompat\u001B[0m\u001B[0;34m.\u001B[0m\u001B[0mv1\u001B[0m\u001B[0;34m.\u001B[0m\u001B[0mcompat\u001B[0m \u001B[0;32mimport\u001B[0m \u001B[0mv1\u001B[0m\u001B[0;34m\u001B[0m\u001B[0;34m\u001B[0m\u001B[0m\n\u001B[0m\u001B[1;32m      9\u001B[0m \u001B[0;32mfrom\u001B[0m \u001B[0mtensorflow\u001B[0m\u001B[0;34m.\u001B[0m\u001B[0m_api\u001B[0m\u001B[0;34m.\u001B[0m\u001B[0mv2\u001B[0m\u001B[0;34m.\u001B[0m\u001B[0mcompat\u001B[0m\u001B[0;34m.\u001B[0m\u001B[0mv1\u001B[0m\u001B[0;34m.\u001B[0m\u001B[0mcompat\u001B[0m \u001B[0;32mimport\u001B[0m \u001B[0mv2\u001B[0m\u001B[0;34m\u001B[0m\u001B[0;34m\u001B[0m\u001B[0m\n\u001B[1;32m     10\u001B[0m \u001B[0;32mfrom\u001B[0m \u001B[0mtensorflow\u001B[0m\u001B[0;34m.\u001B[0m\u001B[0mpython\u001B[0m\u001B[0;34m.\u001B[0m\u001B[0mcompat\u001B[0m\u001B[0;34m.\u001B[0m\u001B[0mcompat\u001B[0m \u001B[0;32mimport\u001B[0m \u001B[0mforward_compatibility_horizon\u001B[0m \u001B[0;31m# line: 125\u001B[0m\u001B[0;34m\u001B[0m\u001B[0;34m\u001B[0m\u001B[0m\n",
      "\u001B[0;32m/usr/local/lib/python3.11/dist-packages/tensorflow/_api/v2/compat/v1/compat/v1/__init__.py\u001B[0m in \u001B[0;36m<module>\u001B[0;34m\u001B[0m\n\u001B[1;32m     45\u001B[0m \u001B[0;32mfrom\u001B[0m \u001B[0mtensorflow\u001B[0m\u001B[0;34m.\u001B[0m\u001B[0m_api\u001B[0m\u001B[0;34m.\u001B[0m\u001B[0mv2\u001B[0m\u001B[0;34m.\u001B[0m\u001B[0mcompat\u001B[0m\u001B[0;34m.\u001B[0m\u001B[0mv1\u001B[0m \u001B[0;32mimport\u001B[0m \u001B[0mlayers\u001B[0m\u001B[0;34m\u001B[0m\u001B[0;34m\u001B[0m\u001B[0m\n\u001B[1;32m     46\u001B[0m \u001B[0;32mfrom\u001B[0m \u001B[0mtensorflow\u001B[0m\u001B[0;34m.\u001B[0m\u001B[0m_api\u001B[0m\u001B[0;34m.\u001B[0m\u001B[0mv2\u001B[0m\u001B[0;34m.\u001B[0m\u001B[0mcompat\u001B[0m\u001B[0;34m.\u001B[0m\u001B[0mv1\u001B[0m \u001B[0;32mimport\u001B[0m \u001B[0mlinalg\u001B[0m\u001B[0;34m\u001B[0m\u001B[0;34m\u001B[0m\u001B[0m\n\u001B[0;32m---> 47\u001B[0;31m \u001B[0;32mfrom\u001B[0m \u001B[0mtensorflow\u001B[0m\u001B[0;34m.\u001B[0m\u001B[0m_api\u001B[0m\u001B[0;34m.\u001B[0m\u001B[0mv2\u001B[0m\u001B[0;34m.\u001B[0m\u001B[0mcompat\u001B[0m\u001B[0;34m.\u001B[0m\u001B[0mv1\u001B[0m \u001B[0;32mimport\u001B[0m \u001B[0mlite\u001B[0m\u001B[0;34m\u001B[0m\u001B[0;34m\u001B[0m\u001B[0m\n\u001B[0m\u001B[1;32m     48\u001B[0m \u001B[0;32mfrom\u001B[0m \u001B[0mtensorflow\u001B[0m\u001B[0;34m.\u001B[0m\u001B[0m_api\u001B[0m\u001B[0;34m.\u001B[0m\u001B[0mv2\u001B[0m\u001B[0;34m.\u001B[0m\u001B[0mcompat\u001B[0m\u001B[0;34m.\u001B[0m\u001B[0mv1\u001B[0m \u001B[0;32mimport\u001B[0m \u001B[0mlogging\u001B[0m\u001B[0;34m\u001B[0m\u001B[0;34m\u001B[0m\u001B[0m\n\u001B[1;32m     49\u001B[0m \u001B[0;32mfrom\u001B[0m \u001B[0mtensorflow\u001B[0m\u001B[0;34m.\u001B[0m\u001B[0m_api\u001B[0m\u001B[0;34m.\u001B[0m\u001B[0mv2\u001B[0m\u001B[0;34m.\u001B[0m\u001B[0mcompat\u001B[0m\u001B[0;34m.\u001B[0m\u001B[0mv1\u001B[0m \u001B[0;32mimport\u001B[0m \u001B[0mlookup\u001B[0m\u001B[0;34m\u001B[0m\u001B[0;34m\u001B[0m\u001B[0m\n",
      "\u001B[0;32m/usr/local/lib/python3.11/dist-packages/tensorflow/_api/v2/compat/v1/lite/__init__.py\u001B[0m in \u001B[0;36m<module>\u001B[0;34m\u001B[0m\n\u001B[1;32m      7\u001B[0m \u001B[0;34m\u001B[0m\u001B[0m\n\u001B[1;32m      8\u001B[0m \u001B[0;32mfrom\u001B[0m \u001B[0mtensorflow\u001B[0m\u001B[0;34m.\u001B[0m\u001B[0m_api\u001B[0m\u001B[0;34m.\u001B[0m\u001B[0mv2\u001B[0m\u001B[0;34m.\u001B[0m\u001B[0mcompat\u001B[0m\u001B[0;34m.\u001B[0m\u001B[0mv1\u001B[0m\u001B[0;34m.\u001B[0m\u001B[0mlite\u001B[0m \u001B[0;32mimport\u001B[0m \u001B[0mconstants\u001B[0m\u001B[0;34m\u001B[0m\u001B[0;34m\u001B[0m\u001B[0m\n\u001B[0;32m----> 9\u001B[0;31m \u001B[0;32mfrom\u001B[0m \u001B[0mtensorflow\u001B[0m\u001B[0;34m.\u001B[0m\u001B[0m_api\u001B[0m\u001B[0;34m.\u001B[0m\u001B[0mv2\u001B[0m\u001B[0;34m.\u001B[0m\u001B[0mcompat\u001B[0m\u001B[0;34m.\u001B[0m\u001B[0mv1\u001B[0m\u001B[0;34m.\u001B[0m\u001B[0mlite\u001B[0m \u001B[0;32mimport\u001B[0m \u001B[0mexperimental\u001B[0m\u001B[0;34m\u001B[0m\u001B[0;34m\u001B[0m\u001B[0m\n\u001B[0m\u001B[1;32m     10\u001B[0m \u001B[0;32mfrom\u001B[0m \u001B[0mtensorflow\u001B[0m\u001B[0;34m.\u001B[0m\u001B[0mlite\u001B[0m\u001B[0;34m.\u001B[0m\u001B[0mpython\u001B[0m\u001B[0;34m.\u001B[0m\u001B[0mconvert\u001B[0m \u001B[0;32mimport\u001B[0m \u001B[0mOpsSet\u001B[0m \u001B[0;31m# line: 170\u001B[0m\u001B[0;34m\u001B[0m\u001B[0;34m\u001B[0m\u001B[0m\n\u001B[1;32m     11\u001B[0m \u001B[0;32mfrom\u001B[0m \u001B[0mtensorflow\u001B[0m\u001B[0;34m.\u001B[0m\u001B[0mlite\u001B[0m\u001B[0;34m.\u001B[0m\u001B[0mpython\u001B[0m\u001B[0;34m.\u001B[0m\u001B[0mconvert\u001B[0m \u001B[0;32mimport\u001B[0m \u001B[0mtoco_convert\u001B[0m \u001B[0;31m# line: 1083\u001B[0m\u001B[0;34m\u001B[0m\u001B[0;34m\u001B[0m\u001B[0m\n",
      "\u001B[0;32m/usr/local/lib/python3.11/dist-packages/tensorflow/_api/v2/compat/v1/lite/experimental/__init__.py\u001B[0m in \u001B[0;36m<module>\u001B[0;34m\u001B[0m\n\u001B[1;32m      6\u001B[0m \u001B[0;32mimport\u001B[0m \u001B[0msys\u001B[0m \u001B[0;32mas\u001B[0m \u001B[0m_sys\u001B[0m\u001B[0;34m\u001B[0m\u001B[0;34m\u001B[0m\u001B[0m\n\u001B[1;32m      7\u001B[0m \u001B[0;34m\u001B[0m\u001B[0m\n\u001B[0;32m----> 8\u001B[0;31m \u001B[0;32mfrom\u001B[0m \u001B[0mtensorflow\u001B[0m\u001B[0;34m.\u001B[0m\u001B[0m_api\u001B[0m\u001B[0;34m.\u001B[0m\u001B[0mv2\u001B[0m\u001B[0;34m.\u001B[0m\u001B[0mcompat\u001B[0m\u001B[0;34m.\u001B[0m\u001B[0mv1\u001B[0m\u001B[0;34m.\u001B[0m\u001B[0mlite\u001B[0m\u001B[0;34m.\u001B[0m\u001B[0mexperimental\u001B[0m \u001B[0;32mimport\u001B[0m \u001B[0mauthoring\u001B[0m\u001B[0;34m\u001B[0m\u001B[0;34m\u001B[0m\u001B[0m\n\u001B[0m\u001B[1;32m      9\u001B[0m \u001B[0;32mfrom\u001B[0m \u001B[0mtensorflow\u001B[0m\u001B[0;34m.\u001B[0m\u001B[0mlite\u001B[0m\u001B[0;34m.\u001B[0m\u001B[0mpython\u001B[0m\u001B[0;34m.\u001B[0m\u001B[0manalyzer\u001B[0m \u001B[0;32mimport\u001B[0m \u001B[0mModelAnalyzer\u001B[0m \u001B[0;32mas\u001B[0m \u001B[0mAnalyzer\u001B[0m \u001B[0;31m# line: 35\u001B[0m\u001B[0;34m\u001B[0m\u001B[0;34m\u001B[0m\u001B[0m\n\u001B[1;32m     10\u001B[0m \u001B[0;32mfrom\u001B[0m \u001B[0mtensorflow\u001B[0m\u001B[0;34m.\u001B[0m\u001B[0mlite\u001B[0m\u001B[0;34m.\u001B[0m\u001B[0mpython\u001B[0m\u001B[0;34m.\u001B[0m\u001B[0minterpreter\u001B[0m \u001B[0;32mimport\u001B[0m \u001B[0mOpResolverType\u001B[0m \u001B[0;31m# line: 303\u001B[0m\u001B[0;34m\u001B[0m\u001B[0;34m\u001B[0m\u001B[0m\n",
      "\u001B[0;32m/usr/local/lib/python3.11/dist-packages/tensorflow/_api/v2/compat/v1/lite/experimental/authoring/__init__.py\u001B[0m in \u001B[0;36m<module>\u001B[0;34m\u001B[0m\n\u001B[1;32m      6\u001B[0m \u001B[0;32mimport\u001B[0m \u001B[0msys\u001B[0m \u001B[0;32mas\u001B[0m \u001B[0m_sys\u001B[0m\u001B[0;34m\u001B[0m\u001B[0;34m\u001B[0m\u001B[0m\n\u001B[1;32m      7\u001B[0m \u001B[0;34m\u001B[0m\u001B[0m\n\u001B[0;32m----> 8\u001B[0;31m \u001B[0;32mfrom\u001B[0m \u001B[0mtensorflow\u001B[0m\u001B[0;34m.\u001B[0m\u001B[0mlite\u001B[0m\u001B[0;34m.\u001B[0m\u001B[0mpython\u001B[0m\u001B[0;34m.\u001B[0m\u001B[0mauthoring\u001B[0m\u001B[0;34m.\u001B[0m\u001B[0mauthoring\u001B[0m \u001B[0;32mimport\u001B[0m \u001B[0mcompatible\u001B[0m \u001B[0;31m# line: 263\u001B[0m\u001B[0;34m\u001B[0m\u001B[0;34m\u001B[0m\u001B[0m\n\u001B[0m\u001B[1;32m      9\u001B[0m \u001B[0;34m\u001B[0m\u001B[0m\n\u001B[1;32m     10\u001B[0m \u001B[0;32mfrom\u001B[0m \u001B[0mtensorflow\u001B[0m\u001B[0;34m.\u001B[0m\u001B[0mpython\u001B[0m\u001B[0;34m.\u001B[0m\u001B[0mutil\u001B[0m \u001B[0;32mimport\u001B[0m \u001B[0mmodule_wrapper\u001B[0m \u001B[0;32mas\u001B[0m \u001B[0m_module_wrapper\u001B[0m\u001B[0;34m\u001B[0m\u001B[0;34m\u001B[0m\u001B[0m\n",
      "\u001B[0;32m/usr/local/lib/python3.11/dist-packages/tensorflow/lite/python/authoring/authoring.py\u001B[0m in \u001B[0;36m<module>\u001B[0;34m\u001B[0m\n\u001B[1;32m     40\u001B[0m \u001B[0;32mfrom\u001B[0m \u001B[0mtensorflow\u001B[0m\u001B[0;34m.\u001B[0m\u001B[0mcompiler\u001B[0m\u001B[0;34m.\u001B[0m\u001B[0mmlir\u001B[0m\u001B[0;34m.\u001B[0m\u001B[0mlite\u001B[0m\u001B[0;34m.\u001B[0m\u001B[0mmetrics\u001B[0m \u001B[0;32mimport\u001B[0m \u001B[0mconverter_error_data_pb2\u001B[0m\u001B[0;34m\u001B[0m\u001B[0;34m\u001B[0m\u001B[0m\n\u001B[1;32m     41\u001B[0m \u001B[0;31m# pylint: disable=g-import-not-at-top\u001B[0m\u001B[0;34m\u001B[0m\u001B[0;34m\u001B[0m\u001B[0m\n\u001B[0;32m---> 42\u001B[0;31m \u001B[0;32mfrom\u001B[0m \u001B[0mtensorflow\u001B[0m\u001B[0;34m.\u001B[0m\u001B[0mlite\u001B[0m\u001B[0;34m.\u001B[0m\u001B[0mpython\u001B[0m \u001B[0;32mimport\u001B[0m \u001B[0mconvert\u001B[0m\u001B[0;34m\u001B[0m\u001B[0;34m\u001B[0m\u001B[0m\n\u001B[0m\u001B[1;32m     43\u001B[0m \u001B[0;32mfrom\u001B[0m \u001B[0mtensorflow\u001B[0m\u001B[0;34m.\u001B[0m\u001B[0mlite\u001B[0m\u001B[0;34m.\u001B[0m\u001B[0mpython\u001B[0m \u001B[0;32mimport\u001B[0m \u001B[0mlite\u001B[0m\u001B[0;34m\u001B[0m\u001B[0;34m\u001B[0m\u001B[0m\n\u001B[1;32m     44\u001B[0m \u001B[0;32mfrom\u001B[0m \u001B[0mtensorflow\u001B[0m\u001B[0;34m.\u001B[0m\u001B[0mpython\u001B[0m\u001B[0;34m.\u001B[0m\u001B[0mutil\u001B[0m\u001B[0;34m.\u001B[0m\u001B[0mtf_export\u001B[0m \u001B[0;32mimport\u001B[0m \u001B[0mtf_export\u001B[0m \u001B[0;32mas\u001B[0m \u001B[0m_tf_export\u001B[0m\u001B[0;34m\u001B[0m\u001B[0;34m\u001B[0m\u001B[0m\n",
      "\u001B[0;32m/usr/local/lib/python3.11/dist-packages/tensorflow/lite/python/convert.py\u001B[0m in \u001B[0;36m<module>\u001B[0;34m\u001B[0m\n\u001B[1;32m     33\u001B[0m \u001B[0;32mfrom\u001B[0m \u001B[0mtensorflow\u001B[0m\u001B[0;34m.\u001B[0m\u001B[0mcompiler\u001B[0m\u001B[0;34m.\u001B[0m\u001B[0mmlir\u001B[0m\u001B[0;34m.\u001B[0m\u001B[0mquantization\u001B[0m\u001B[0;34m.\u001B[0m\u001B[0mstablehlo\u001B[0m \u001B[0;32mimport\u001B[0m \u001B[0mquantization_options_pb2\u001B[0m \u001B[0;32mas\u001B[0m \u001B[0mquant_opts_pb2\u001B[0m\u001B[0;34m\u001B[0m\u001B[0;34m\u001B[0m\u001B[0m\n\u001B[1;32m     34\u001B[0m \u001B[0;32mfrom\u001B[0m \u001B[0mtensorflow\u001B[0m\u001B[0;34m.\u001B[0m\u001B[0mlite\u001B[0m\u001B[0;34m.\u001B[0m\u001B[0mpython\u001B[0m \u001B[0;32mimport\u001B[0m \u001B[0mlite_constants\u001B[0m\u001B[0;34m\u001B[0m\u001B[0;34m\u001B[0m\u001B[0m\n\u001B[0;32m---> 35\u001B[0;31m \u001B[0;32mfrom\u001B[0m \u001B[0mtensorflow\u001B[0m\u001B[0;34m.\u001B[0m\u001B[0mlite\u001B[0m\u001B[0;34m.\u001B[0m\u001B[0mpython\u001B[0m \u001B[0;32mimport\u001B[0m \u001B[0mutil\u001B[0m\u001B[0;34m\u001B[0m\u001B[0;34m\u001B[0m\u001B[0m\n\u001B[0m\u001B[1;32m     36\u001B[0m \u001B[0;32mfrom\u001B[0m \u001B[0mtensorflow\u001B[0m\u001B[0;34m.\u001B[0m\u001B[0mlite\u001B[0m\u001B[0;34m.\u001B[0m\u001B[0mpython\u001B[0m\u001B[0;34m.\u001B[0m\u001B[0mconvert_phase\u001B[0m \u001B[0;32mimport\u001B[0m \u001B[0mComponent\u001B[0m\u001B[0;34m\u001B[0m\u001B[0;34m\u001B[0m\u001B[0m\n\u001B[1;32m     37\u001B[0m \u001B[0;32mfrom\u001B[0m \u001B[0mtensorflow\u001B[0m\u001B[0;34m.\u001B[0m\u001B[0mlite\u001B[0m\u001B[0;34m.\u001B[0m\u001B[0mpython\u001B[0m\u001B[0;34m.\u001B[0m\u001B[0mconvert_phase\u001B[0m \u001B[0;32mimport\u001B[0m \u001B[0mconvert_phase\u001B[0m\u001B[0;34m\u001B[0m\u001B[0;34m\u001B[0m\u001B[0m\n",
      "\u001B[0;32m/usr/local/lib/python3.11/dist-packages/tensorflow/lite/python/util.py\u001B[0m in \u001B[0;36m<module>\u001B[0;34m\u001B[0m\n\u001B[1;32m     51\u001B[0m \u001B[0;31m# pylint: disable=unused-import\u001B[0m\u001B[0;34m\u001B[0m\u001B[0;34m\u001B[0m\u001B[0m\n\u001B[1;32m     52\u001B[0m \u001B[0;32mtry\u001B[0m\u001B[0;34m:\u001B[0m\u001B[0;34m\u001B[0m\u001B[0;34m\u001B[0m\u001B[0m\n\u001B[0;32m---> 53\u001B[0;31m   \u001B[0;32mfrom\u001B[0m \u001B[0mjax\u001B[0m \u001B[0;32mimport\u001B[0m \u001B[0mjit\u001B[0m \u001B[0;32mas\u001B[0m \u001B[0m_jit\u001B[0m\u001B[0;34m\u001B[0m\u001B[0;34m\u001B[0m\u001B[0m\n\u001B[0m\u001B[1;32m     54\u001B[0m \u001B[0;32mexcept\u001B[0m \u001B[0mImportError\u001B[0m\u001B[0;34m:\u001B[0m\u001B[0;34m\u001B[0m\u001B[0;34m\u001B[0m\u001B[0m\n\u001B[1;32m     55\u001B[0m   \u001B[0m_jit\u001B[0m \u001B[0;34m=\u001B[0m \u001B[0;32mNone\u001B[0m\u001B[0;34m\u001B[0m\u001B[0;34m\u001B[0m\u001B[0m\n",
      "\u001B[0;32m/usr/local/lib/python3.11/dist-packages/jax/__init__.py\u001B[0m in \u001B[0;36m<module>\u001B[0;34m\u001B[0m\n\u001B[1;32m     35\u001B[0m \u001B[0;34m\u001B[0m\u001B[0m\n\u001B[1;32m     36\u001B[0m \u001B[0;31m# Force early import, allowing use of `jax.core` after importing `jax`.\u001B[0m\u001B[0;34m\u001B[0m\u001B[0;34m\u001B[0m\u001B[0m\n\u001B[0;32m---> 37\u001B[0;31m \u001B[0;32mimport\u001B[0m \u001B[0mjax\u001B[0m\u001B[0;34m.\u001B[0m\u001B[0mcore\u001B[0m \u001B[0;32mas\u001B[0m \u001B[0m_core\u001B[0m\u001B[0;34m\u001B[0m\u001B[0;34m\u001B[0m\u001B[0m\n\u001B[0m\u001B[1;32m     38\u001B[0m \u001B[0;32mdel\u001B[0m \u001B[0m_core\u001B[0m\u001B[0;34m\u001B[0m\u001B[0;34m\u001B[0m\u001B[0m\n\u001B[1;32m     39\u001B[0m \u001B[0;34m\u001B[0m\u001B[0m\n",
      "\u001B[0;32m/usr/local/lib/python3.11/dist-packages/jax/core.py\u001B[0m in \u001B[0;36m<module>\u001B[0;34m\u001B[0m\n\u001B[1;32m     16\u001B[0m \u001B[0;31m# See PEP 484 & https://github.com/jax-ml/jax/issues/7570\u001B[0m\u001B[0;34m\u001B[0m\u001B[0;34m\u001B[0m\u001B[0m\n\u001B[1;32m     17\u001B[0m \u001B[0;34m\u001B[0m\u001B[0m\n\u001B[0;32m---> 18\u001B[0;31m from jax._src.core import (\n\u001B[0m\u001B[1;32m     19\u001B[0m   \u001B[0mAbstractToken\u001B[0m \u001B[0;32mas\u001B[0m \u001B[0mAbstractToken\u001B[0m\u001B[0;34m,\u001B[0m\u001B[0;34m\u001B[0m\u001B[0;34m\u001B[0m\u001B[0m\n\u001B[1;32m     20\u001B[0m   \u001B[0mAbstractValue\u001B[0m \u001B[0;32mas\u001B[0m \u001B[0mAbstractValue\u001B[0m\u001B[0;34m,\u001B[0m\u001B[0;34m\u001B[0m\u001B[0;34m\u001B[0m\u001B[0m\n",
      "\u001B[0;32m/usr/local/lib/python3.11/dist-packages/jax/_src/core.py\u001B[0m in \u001B[0;36m<module>\u001B[0;34m\u001B[0m\n\u001B[1;32m     35\u001B[0m \u001B[0;32mimport\u001B[0m \u001B[0mnumpy\u001B[0m \u001B[0;32mas\u001B[0m \u001B[0mnp\u001B[0m\u001B[0;34m\u001B[0m\u001B[0;34m\u001B[0m\u001B[0m\n\u001B[1;32m     36\u001B[0m \u001B[0;34m\u001B[0m\u001B[0m\n\u001B[0;32m---> 37\u001B[0;31m \u001B[0;32mfrom\u001B[0m \u001B[0mjax\u001B[0m\u001B[0;34m.\u001B[0m\u001B[0m_src\u001B[0m \u001B[0;32mimport\u001B[0m \u001B[0mdtypes\u001B[0m\u001B[0;34m\u001B[0m\u001B[0;34m\u001B[0m\u001B[0m\n\u001B[0m\u001B[1;32m     38\u001B[0m \u001B[0;32mfrom\u001B[0m \u001B[0mjax\u001B[0m\u001B[0;34m.\u001B[0m\u001B[0m_src\u001B[0m \u001B[0;32mimport\u001B[0m \u001B[0mconfig\u001B[0m\u001B[0;34m\u001B[0m\u001B[0;34m\u001B[0m\u001B[0m\n\u001B[1;32m     39\u001B[0m \u001B[0;32mfrom\u001B[0m \u001B[0mjax\u001B[0m\u001B[0;34m.\u001B[0m\u001B[0m_src\u001B[0m \u001B[0;32mimport\u001B[0m \u001B[0meffects\u001B[0m\u001B[0;34m\u001B[0m\u001B[0;34m\u001B[0m\u001B[0m\n",
      "\u001B[0;32m/usr/local/lib/python3.11/dist-packages/jax/_src/dtypes.py\u001B[0m in \u001B[0;36m<module>\u001B[0;34m\u001B[0m\n\u001B[1;32m    519\u001B[0m \u001B[0;31m# StringDType to be used in there.\u001B[0m\u001B[0;34m\u001B[0m\u001B[0;34m\u001B[0m\u001B[0m\n\u001B[1;32m    520\u001B[0m \u001B[0m_string_types\u001B[0m\u001B[0;34m:\u001B[0m \u001B[0mlist\u001B[0m\u001B[0;34m[\u001B[0m\u001B[0mJAXType\u001B[0m\u001B[0;34m]\u001B[0m \u001B[0;34m=\u001B[0m \u001B[0;34m[\u001B[0m\u001B[0;34m]\u001B[0m\u001B[0;34m\u001B[0m\u001B[0;34m\u001B[0m\u001B[0m\n\u001B[0;32m--> 521\u001B[0;31m \u001B[0;32mif\u001B[0m \u001B[0mhasattr\u001B[0m\u001B[0;34m(\u001B[0m\u001B[0mnp\u001B[0m\u001B[0;34m.\u001B[0m\u001B[0mdtypes\u001B[0m\u001B[0;34m,\u001B[0m \u001B[0;34m'StringDType'\u001B[0m\u001B[0;34m)\u001B[0m \u001B[0;32mand\u001B[0m \u001B[0mxla_extension_version\u001B[0m \u001B[0;34m>=\u001B[0m \u001B[0;36m311\u001B[0m\u001B[0;34m:\u001B[0m\u001B[0;34m\u001B[0m\u001B[0;34m\u001B[0m\u001B[0m\n\u001B[0m\u001B[1;32m    522\u001B[0m   \u001B[0m_string_types\u001B[0m\u001B[0;34m:\u001B[0m \u001B[0mlist\u001B[0m\u001B[0;34m[\u001B[0m\u001B[0mJAXType\u001B[0m\u001B[0;34m]\u001B[0m \u001B[0;34m=\u001B[0m \u001B[0;34m[\u001B[0m\u001B[0mnp\u001B[0m\u001B[0;34m.\u001B[0m\u001B[0mdtypes\u001B[0m\u001B[0;34m.\u001B[0m\u001B[0mStringDType\u001B[0m\u001B[0;34m(\u001B[0m\u001B[0;34m)\u001B[0m\u001B[0;34m]\u001B[0m  \u001B[0;31m# type: ignore\u001B[0m\u001B[0;34m\u001B[0m\u001B[0;34m\u001B[0m\u001B[0m\n\u001B[1;32m    523\u001B[0m \u001B[0;34m\u001B[0m\u001B[0m\n",
      "\u001B[0;32m/usr/local/lib/python3.11/dist-packages/numpy/__init__.py\u001B[0m in \u001B[0;36m__getattr__\u001B[0;34m(attr)\u001B[0m\n\u001B[1;32m    318\u001B[0m             \u001B[0;32mreturn\u001B[0m \u001B[0mTester\u001B[0m\u001B[0;34m\u001B[0m\u001B[0;34m\u001B[0m\u001B[0m\n\u001B[1;32m    319\u001B[0m \u001B[0;34m\u001B[0m\u001B[0m\n\u001B[0;32m--> 320\u001B[0;31m         raise AttributeError(\"module {!r} has no attribute \"\n\u001B[0m\u001B[1;32m    321\u001B[0m                              \"{!r}\".format(__name__, attr))\n\u001B[1;32m    322\u001B[0m \u001B[0;34m\u001B[0m\u001B[0m\n",
      "\u001B[0;31mAttributeError\u001B[0m: module 'numpy' has no attribute 'dtypes'"
     ]
    }
   ]
  },
  {
   "metadata": {},
   "cell_type": "code",
   "outputs": [],
   "execution_count": null,
   "source": ""
  }
 ]
}
